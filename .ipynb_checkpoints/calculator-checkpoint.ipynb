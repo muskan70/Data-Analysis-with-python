{
 "cells": [
  {
   "cell_type": "code",
   "execution_count": 10,
   "metadata": {},
   "outputs": [
    {
     "name": "stdout",
     "output_type": "stream",
     "text": [
      "enter the first number67\n",
      "enter the second number45\n",
      "calculator operations:\n",
      "1.addition\n",
      "2.subtraction\n",
      "3.multiplication\n",
      "4.division\n",
      "enter the choice2\n",
      "subtraction of 67,45=22\n"
     ]
    }
   ],
   "source": [
    "def add(x,y):\n",
    "    return x+y\n",
    "def sub(x,y):\n",
    "    return x-y\n",
    "def mul(x,y):\n",
    "    return x*y\n",
    "def div(x,y):\n",
    "    return x/y\n",
    "a=int(input(\"enter the first number\"))\n",
    "b=int(input(\"enter the second number\"))\n",
    "print(\"calculator operations:\\n1.addition\\n2.subtraction\\n3.multiplication\\n4.division\")\n",
    "c=int(input(\"enter the choice\"))\n",
    "if(c==1):\n",
    "    print(\"addition of %d,%d=%d\"%(a,b,add(a,b)))\n",
    "elif(c==2):\n",
    "    print(\"subtraction of %d,%d=%d\"%(a,b,sub(a,b)))\n",
    "elif(c==3):\n",
    "    print(\"multiplication of %d,%d=%d\"%(a,b,mul(a,b)))\n",
    "elif(c==4):\n",
    "    print(\"division of %d,%d=%d\"%(a,b,div(a,b)))\n",
    "else:\n",
    "    print(\"wrong input\")\n",
    "    "
   ]
  },
  {
   "cell_type": "code",
   "execution_count": null,
   "metadata": {},
   "outputs": [],
   "source": []
  }
 ],
 "metadata": {
  "kernelspec": {
   "display_name": "Python 3",
   "language": "python",
   "name": "python3"
  },
  "language_info": {
   "codemirror_mode": {
    "name": "ipython",
    "version": 3
   },
   "file_extension": ".py",
   "mimetype": "text/x-python",
   "name": "python",
   "nbconvert_exporter": "python",
   "pygments_lexer": "ipython3",
   "version": "3.6.4"
  }
 },
 "nbformat": 4,
 "nbformat_minor": 2
}
