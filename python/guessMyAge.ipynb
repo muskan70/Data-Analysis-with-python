{
 "cells": [
  {
   "cell_type": "code",
   "execution_count": 2,
   "metadata": {},
   "outputs": [
    {
     "name": "stdout",
     "output_type": "stream",
     "text": [
      "Pick a number b/w 1 to 10:7\n",
      "Multiple the number by 2:14\n",
      "Add 5 to this:19\n",
      "Multiple this by 50:950\n",
      "if birthday has arrived add 1766 else add 1767:2717\n",
      "Subtract the year u born:623\n",
      "your age is :23\n"
     ]
    }
   ],
   "source": [
    "def guessMyAge():\n",
    "    a=int(input(\"Pick a number b/w 1 to 10:\"))\n",
    "    b=int(input(\"Multiple the number by 2:\"))\n",
    "    c=int(input(\"Add 5 to this:\"))\n",
    "    g=int(input(\"Multiple this by 50:\"))\n",
    "    d=int(input(\"if birthday has arrived add 1766 else add 1767:\"))\n",
    "    e=int(input(\"Subtract the year u born:\"))\n",
    "    print(\"your age is :%d\"%(e%100))\n",
    "guessMyAge()    "
   ]
  },
  {
   "cell_type": "code",
   "execution_count": null,
   "metadata": {},
   "outputs": [],
   "source": []
  },
  {
   "cell_type": "code",
   "execution_count": null,
   "metadata": {},
   "outputs": [],
   "source": []
  }
 ],
 "metadata": {
  "kernelspec": {
   "display_name": "Python 3",
   "language": "python",
   "name": "python3"
  },
  "language_info": {
   "codemirror_mode": {
    "name": "ipython",
    "version": 3
   },
   "file_extension": ".py",
   "mimetype": "text/x-python",
   "name": "python",
   "nbconvert_exporter": "python",
   "pygments_lexer": "ipython3",
   "version": "3.6.4"
  }
 },
 "nbformat": 4,
 "nbformat_minor": 2
}
