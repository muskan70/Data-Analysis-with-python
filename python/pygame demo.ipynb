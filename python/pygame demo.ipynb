{
 "cells": [
  {
   "cell_type": "code",
   "execution_count": 4,
   "metadata": {
    "scrolled": true
   },
   "outputs": [],
   "source": [
    "import pygame \n",
    "from pygame import draw\n",
    "pygame.init() \n",
    "\n",
    "screen=pygame.display.set_mode((400,400))\n",
    "pygame.display.set_caption('Game Demo')\n",
    "\n",
    "done=False \n",
    "clock=pygame.time.Clock()\n",
    "color=(0,128,255)\n",
    "screen.fill((255,255,255)) \n",
    "\n",
    "while not done:\n",
    "    for event in pygame.event.get():\n",
    "        if(event.type==pygame.QUIT):\n",
    "            done=True \n",
    "            \n",
    "   \n",
    "    screen.fill(color,[50,50,50,50])\n",
    "    pygame.display.update()\n",
    "    clock.tick(60)\n",
    "\n",
    "    \n",
    "pygame.quit()\n",
    "quit()\n"
   ]
  },
  {
   "cell_type": "code",
   "execution_count": null,
   "metadata": {},
   "outputs": [],
   "source": []
  },
  {
   "cell_type": "code",
   "execution_count": null,
   "metadata": {},
   "outputs": [],
   "source": []
  },
  {
   "cell_type": "code",
   "execution_count": null,
   "metadata": {},
   "outputs": [],
   "source": []
  }
 ],
 "metadata": {
  "kernelspec": {
   "display_name": "Python 3",
   "language": "python",
   "name": "python3"
  },
  "language_info": {
   "codemirror_mode": {
    "name": "ipython",
    "version": 3
   },
   "file_extension": ".py",
   "mimetype": "text/x-python",
   "name": "python",
   "nbconvert_exporter": "python",
   "pygments_lexer": "ipython3",
   "version": "3.6.4"
  }
 },
 "nbformat": 4,
 "nbformat_minor": 2
}
