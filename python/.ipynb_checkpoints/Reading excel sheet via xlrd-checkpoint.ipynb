{
 "cells": [
  {
   "cell_type": "code",
   "execution_count": 21,
   "metadata": {},
   "outputs": [
    {
     "name": "stdout",
     "output_type": "stream",
     "text": [
      "[21.0, 23.0, 22.0, 21.0, 23.0, 20.0, 19.0, 22.0, 18.0, 21.0, 24.0, 21.0, 22.0, 20.0, 26.0, 21.0, 25.0, 24.0, 23.0, 21.0, 22.0, 22.0, 19.0, 20.0, 24.0, 23.0, 21.0, 22.0, 22.0, 20.0, 23.0, 22.0, 21.0, 22.0, 23.0, 22.0, 21.0, 20.0, 20.0, 21.0, 24.0, 23.0, 22.0, 19.0, 21.0, 20.0, 18.0, 29.0, 22.0, 21.0, 22.0, 23.0, 25.0, 26.0, 20.0, 19.0, 25.0, 23.0, 21.0, 22.0]\n",
      "Mean age of students 21.866666666666667\n"
     ]
    }
   ],
   "source": [
    "from xlrd import open_workbook\n",
    "import numpy as np\n",
    "wb=open_workbook('Book1.xlsx')\n",
    "sheet=wb.sheet_by_name('Sheet1')\n",
    "row=sheet.nrows\n",
    "col=sheet.ncols\n",
    "l=[]\n",
    "for i in range(1,row):\n",
    "    l.append(sheet.cell(i,1).value)\n",
    "print(l)\n",
    "x=np.array(l)\n",
    "print(\"Mean age of students\",np.mean(x));"
   ]
  },
  {
   "cell_type": "code",
   "execution_count": null,
   "metadata": {},
   "outputs": [],
   "source": []
  }
 ],
 "metadata": {
  "kernelspec": {
   "display_name": "Python 3",
   "language": "python",
   "name": "python3"
  },
  "language_info": {
   "codemirror_mode": {
    "name": "ipython",
    "version": 3
   },
   "file_extension": ".py",
   "mimetype": "text/x-python",
   "name": "python",
   "nbconvert_exporter": "python",
   "pygments_lexer": "ipython3",
   "version": "3.6.4"
  }
 },
 "nbformat": 4,
 "nbformat_minor": 2
}
