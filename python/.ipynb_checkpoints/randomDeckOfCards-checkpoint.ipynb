{
 "cells": [
  {
   "cell_type": "code",
   "execution_count": 1,
   "metadata": {},
   "outputs": [
    {
     "name": "stdout",
     "output_type": "stream",
     "text": [
      "2 of Club\n",
      "13 of Heart\n",
      "1 of Spades\n",
      "11 of Club\n",
      "11 of Spades\n"
     ]
    }
   ],
   "source": [
    "import itertools,random\n",
    "d=list(itertools.product(range(1,14),['Spades','Heart','Diamond','Club']))\n",
    "random.shuffle(d)\n",
    "for i in range(0,5):\n",
    "    print(d[i][0],\"of\",d[i][1]) \n"
   ]
  },
  {
   "cell_type": "code",
   "execution_count": null,
   "metadata": {},
   "outputs": [],
   "source": []
  }
 ],
 "metadata": {
  "kernelspec": {
   "display_name": "Python 3",
   "language": "python",
   "name": "python3"
  },
  "language_info": {
   "codemirror_mode": {
    "name": "ipython",
    "version": 3
   },
   "file_extension": ".py",
   "mimetype": "text/x-python",
   "name": "python",
   "nbconvert_exporter": "python",
   "pygments_lexer": "ipython3",
   "version": "3.6.4"
  }
 },
 "nbformat": 4,
 "nbformat_minor": 2
}
