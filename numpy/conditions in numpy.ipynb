{
 "cells": [
  {
   "cell_type": "code",
   "execution_count": 7,
   "metadata": {},
   "outputs": [
    {
     "name": "stdout",
     "output_type": "stream",
     "text": [
      "INDEX OF MINIMUM ELEMENT 3\n",
      "INDEX OF MAXIMUM ELEMENT 5\n"
     ]
    }
   ],
   "source": [
    "import numpy as np\n",
    "a=np.array([2,6,4,1,7,8])\n",
    "print(\"INDEX OF MINIMUM ELEMENT\",np.argmin(a))\n",
    "print(\"INDEX OF MAXIMUM ELEMENT\",np.argmax(a))"
   ]
  },
  {
   "cell_type": "code",
   "execution_count": 10,
   "metadata": {},
   "outputs": [
    {
     "name": "stdout",
     "output_type": "stream",
     "text": [
      "(array([0, 1, 2, 3, 4, 5], dtype=int64),)\n",
      "(array([1, 3], dtype=int64),)\n"
     ]
    }
   ],
   "source": [
    "print(np.nonzero(a)) #return indices which are non_zero\n",
    "b=np.array([0,5,0,2,0,0])\n",
    "print(np.nonzero(b))"
   ]
  },
  {
   "cell_type": "code",
   "execution_count": 13,
   "metadata": {},
   "outputs": [
    {
     "name": "stdout",
     "output_type": "stream",
     "text": [
      "(array([0, 1], dtype=int64),)\n"
     ]
    }
   ],
   "source": [
    "y=np.array([1,2,3,4,5])\n",
    "print(np.where(y<3))     #condition in numpy"
   ]
  },
  {
   "cell_type": "code",
   "execution_count": 18,
   "metadata": {},
   "outputs": [
    {
     "name": "stdout",
     "output_type": "stream",
     "text": [
      "[False False False  True  True]\n",
      "[ True  True  True False False  True]\n"
     ]
    }
   ],
   "source": [
    "condition=y>3\n",
    "print(np.extract(y,condition))         #taking condition and sending it to array\n",
    "t=np.mod(a,2)==0\n",
    "print(np.extract(a,t))"
   ]
  },
  {
   "cell_type": "code",
   "execution_count": 35,
   "metadata": {},
   "outputs": [
    {
     "name": "stdout",
     "output_type": "stream",
     "text": [
      "<map object at 0x0000018CEB097400>\n",
      "[-11772  13616 -31741  13312]\n",
      "<map object at 0x0000018CEB097358>\n"
     ]
    }
   ],
   "source": [
    "b=np.array([1234,12341,900,52],dtype = np.int16)\n",
    "print(map(hex,b))                     #byte swpping is used to use memory as required\n",
    "print(b.byteswap('True'))\n",
    "print(map(hex,b))\n"
   ]
  },
  {
   "cell_type": "code",
   "execution_count": 51,
   "metadata": {},
   "outputs": [
    {
     "name": "stdout",
     "output_type": "stream",
     "text": [
      "[1 2 3 4 5 7]\n",
      "1704764710064\n",
      "[1 2 3 4 5 7]\n",
      "1704764710064\n",
      "[[1 2 3]\n",
      " [4 5 7]]\n",
      "[[1 2 3]\n",
      " [4 5 7]]\n"
     ]
    }
   ],
   "source": [
    "#copy by assignment-physically present,uses the same id,return the universal identity of array->changing b will change a in copy\n",
    "m=np.array([1,2,3,4,5,7])\n",
    "print(m)\n",
    "print(id(m))\n",
    "n=m                #copy\n",
    "print(n)\n",
    "print(id(n))\n",
    "n.shape=2,3\n",
    "print(n)\n",
    "print(m)"
   ]
  },
  {
   "cell_type": "code",
   "execution_count": 50,
   "metadata": {},
   "outputs": [
    {
     "name": "stdout",
     "output_type": "stream",
     "text": [
      "[1 2 3 4 5 7]\n",
      "1704764708784\n",
      "[1 2 3 4 5 7]\n",
      "1704764398208\n",
      "[[1 2 3]\n",
      " [4 5 7]]\n",
      "[1 2 3 4 5 7]\n"
     ]
    }
   ],
   "source": [
    "#copy function-->changing b will not change a in copy\n",
    "m=np.array([1,2,3,4,5,7])\n",
    "print(m)\n",
    "print(id(m))\n",
    "n=m.copy()                #copy function\n",
    "print(n)\n",
    "print(id(n))\n",
    "n.shape=2,3\n",
    "print(n)\n",
    "print(m)"
   ]
  },
  {
   "cell_type": "code",
   "execution_count": 45,
   "metadata": {},
   "outputs": [
    {
     "name": "stdout",
     "output_type": "stream",
     "text": [
      "[1 2 3 4 5 7]\n",
      "1704750346608\n",
      "[1 2 3 4 5 7]\n",
      "1704750347568\n",
      "[[1 2 3]\n",
      " [4 5 7]]\n",
      "[1 2 3 4 5 7]\n"
     ]
    }
   ],
   "source": [
    "#view-changing b will not change a \n",
    "m=np.array([1,2,3,4,5,7])\n",
    "print(m)\n",
    "print(id(m))\n",
    "n=m.view()                #view\n",
    "print(n)\n",
    "print(id(n))\n",
    "n.shape=2,3\n",
    "print(n)\n",
    "print(m)\n"
   ]
  },
  {
   "cell_type": "code",
   "execution_count": 54,
   "metadata": {},
   "outputs": [
    {
     "data": {
      "image/png": "[encoded data removed]",
      "text/plain": [
       "<matplotlib.figure.Figure at 0x18cebe6fa90>"
      ]
     },
     "metadata": {},
     "output_type": "display_data"
    }
   ],
   "source": [
    "from matplotlib import pyplot as plt              #ploting of graph\n",
    "% matplotlib inline\n",
    "plt.title(\"demo of graph\")\n",
    "plt.xlabel(\"no.of hours\")\n",
    "plt.ylabel(\"days\")\n",
    "plt.plot(m)\n",
    "plt.show()"
   ]
  },
  {
   "cell_type": "code",
   "execution_count": null,
   "metadata": {},
   "outputs": [],
   "source": []
  }
 ],
 "metadata": {
  "kernelspec": {
   "display_name": "Python 3",
   "language": "python",
   "name": "python3"
  },
  "language_info": {
   "codemirror_mode": {
    "name": "ipython",
    "version": 3
   },
   "file_extension": ".py",
   "mimetype": "text/x-python",
   "name": "python",
   "nbconvert_exporter": "python",
   "pygments_lexer": "ipython3",
   "version": "3.6.4"
  }
 },
 "nbformat": 4,
 "nbformat_minor": 2
}
