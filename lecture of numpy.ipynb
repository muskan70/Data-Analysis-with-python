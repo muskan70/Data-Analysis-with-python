{
 "cells": [
  {
   "cell_type": "code",
   "execution_count": 10,
   "metadata": {},
   "outputs": [
    {
     "name": "stdout",
     "output_type": "stream",
     "text": [
      "['hellomuskan']\n"
     ]
    }
   ],
   "source": [
    "import numpy as np\n",
    "a=np.array([\"hello\"])\n",
    "b=np.char.add(a,\"muskan\")\n",
    "print(b)"
   ]
  },
  {
   "cell_type": "code",
   "execution_count": 16,
   "metadata": {},
   "outputs": [
    {
     "name": "stdout",
     "output_type": "stream",
     "text": [
      "['what what what ' 'dododo' 'youyouyou' 'wantwantwant']\n"
     ]
    }
   ],
   "source": [
    "c=np.char.multiply([\"what \",\"do\",\"you\",\"want\"],3)\n",
    "print(c)"
   ]
  },
  {
   "cell_type": "code",
   "execution_count": 17,
   "metadata": {},
   "outputs": [
    {
     "name": "stdout",
     "output_type": "stream",
     "text": [
      "['hellomuskanwhat what what ' 'hellomuskandododo' 'hellomuskanyouyouyou'\n",
      " 'hellomuskanwantwantwant']\n"
     ]
    }
   ],
   "source": [
    "d=np.char.add(b,c)\n",
    "print(d)"
   ]
  },
  {
   "cell_type": "code",
   "execution_count": 19,
   "metadata": {},
   "outputs": [
    {
     "name": "stdout",
     "output_type": "stream",
     "text": [
      "he was a good boy\n"
     ]
    }
   ],
   "source": [
    "f=np.char.replace(\"he is a good boy\",\"is\",\"was\")\n",
    "print(f)"
   ]
  },
  {
   "cell_type": "code",
   "execution_count": 31,
   "metadata": {},
   "outputs": [
    {
     "name": "stdout",
     "output_type": "stream",
     "text": [
      "h:e:l:l:o: :w:o:r:l:d\n"
     ]
    }
   ],
   "source": [
    "g=np.char.join(':',\"hello world\")\n",
    "print(g)"
   ]
  },
  {
   "cell_type": "code",
   "execution_count": 38,
   "metadata": {},
   "outputs": [
    {
     "name": "stdout",
     "output_type": "stream",
     "text": [
      "[0.00000000e+00 5.00000000e-01 7.07106781e-01 8.66025404e-01\n",
      " 1.00000000e+00 8.66025404e-01 5.00000000e-01 1.22464680e-16]\n",
      "[ 1.00000000e+00  8.66025404e-01  7.07106781e-01  5.00000000e-01\n",
      "  6.12323400e-17 -5.00000000e-01 -8.66025404e-01 -1.00000000e+00]\n",
      "[ 0.00000000e+00  5.77350269e-01  1.00000000e+00  1.73205081e+00\n",
      "  1.63312394e+16 -1.73205081e+00 -5.77350269e-01 -1.22464680e-16]\n",
      "[0.00000000e+00 5.23598776e-01 7.85398163e-01 1.04719755e+00\n",
      " 1.57079633e+00 1.04719755e+00 5.23598776e-01 1.22464680e-16]\n"
     ]
    }
   ],
   "source": [
    "from numpy import pi\n",
    "x=np.array([0,30,45,60,90,120,150,180])\n",
    "print(np.sin(x*pi/180))\n",
    "print(np.cos(x*pi/180))\n",
    "print(np.tan(x*pi/180))\n",
    "a=np.sin(x*pi/180)\n",
    "print(np.arcsin(a))"
   ]
  },
  {
   "cell_type": "code",
   "execution_count": null,
   "metadata": {},
   "outputs": [],
   "source": []
  }
 ],
 "metadata": {
  "kernelspec": {
   "display_name": "Python 3",
   "language": "python",
   "name": "python3"
  },
  "language_info": {
   "codemirror_mode": {
    "name": "ipython",
    "version": 3
   },
   "file_extension": ".py",
   "mimetype": "text/x-python",
   "name": "python",
   "nbconvert_exporter": "python",
   "pygments_lexer": "ipython3",
   "version": "3.6.4"
  }
 },
 "nbformat": 4,
 "nbformat_minor": 2
}
