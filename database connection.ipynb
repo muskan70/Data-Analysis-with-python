{
 "cells": [
  {
   "cell_type": "code",
   "execution_count": 5,
   "metadata": {},
   "outputs": [
    {
     "name": "stdout",
     "output_type": "stream",
     "text": [
      "('muskan', 150, 50)\n",
      "('vipul', 160, 6)\n",
      "('karan', 155, 55)\n",
      "('vimal', 166, 66)\n",
      "('shristi', 157, 56)\n",
      "('vikram', 169, 69)\n",
      "('vaishnavi', 153, 52)\n",
      "('sharad', 164, 52)\n",
      "('priyanka', 156, 53)\n",
      "('kapil', 161, 57)\n"
     ]
    }
   ],
   "source": [
    "import pymysql\n",
    "db=pymysql.connect(\"localhost\",\"root\",\"muskan\",\"example\")\n",
    "cursor=db.cursor()\n",
    "cursor.execute(\"select * from person\")\n",
    "data=cursor.fetchall()\n",
    "for i in data:\n",
    "    print (i)\n"
   ]
  }
 ],
 "metadata": {
  "kernelspec": {
   "display_name": "Python 3",
   "language": "python",
   "name": "python3"
  },
  "language_info": {
   "codemirror_mode": {
    "name": "ipython",
    "version": 3
   },
   "file_extension": ".py",
   "mimetype": "text/x-python",
   "name": "python",
   "nbconvert_exporter": "python",
   "pygments_lexer": "ipython3",
   "version": "3.6.4"
  }
 },
 "nbformat": 4,
 "nbformat_minor": 2
}
