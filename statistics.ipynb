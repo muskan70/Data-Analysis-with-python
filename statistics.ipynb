{
 "cells": [
  {
   "cell_type": "code",
   "execution_count": 15,
   "metadata": {},
   "outputs": [
    {
     "name": "stdout",
     "output_type": "stream",
     "text": [
      "[3 5 8 0 2 5]\n",
      "8\n",
      "0\n",
      "4.0\n",
      "3.8333333333333335\n"
     ]
    }
   ],
   "source": [
    "import numpy as np\n",
    "a=np.array([3,5,8,0,2,5])\n",
    "print(a)\n",
    "print(np.amax(a))\n",
    "print(np.amin(a))\n",
    "print(np.median(a))\n",
    "print(np.mean(a))"
   ]
  },
  {
   "cell_type": "code",
   "execution_count": 10,
   "metadata": {},
   "outputs": [
    {
     "name": "stdout",
     "output_type": "stream",
     "text": [
      "36\n",
      "35\n",
      "3.5\n",
      "[2.5 8.  3.5]\n",
      "[1. 4. 7. 3.]\n",
      "[[ 1  2  3  4]\n",
      " [36  7  9  1]\n",
      " [ 1  4  7  3]]\n"
     ]
    }
   ],
   "source": [
    "b=np.array([[1,2,3,4],[36,7,9,1],[1,4,7,3]])\n",
    "print(np.amax(b))\n",
    "print(np.ptp(b)) #returns range minimum to maximum\n",
    "print(np.median(b))\n",
    "print(np.median(b,axis=1))\n",
    "print(np.median(b,axis=0))\n",
    "print(b)"
   ]
  },
  {
   "cell_type": "code",
   "execution_count": 19,
   "metadata": {},
   "outputs": [
    {
     "name": "stdout",
     "output_type": "stream",
     "text": [
      "[[6 2 8 9 7]\n",
      " [2 7 1 9 3]\n",
      " [5 3 8 0 1]]\n",
      "[7. 3. 3.]\n",
      "[5. 3. 8. 9. 3.]\n",
      "[6.4 4.4 3.4]\n",
      "[4.33333333 4.         5.66666667 6.         3.66666667]\n"
     ]
    }
   ],
   "source": [
    "c=np.array([[6,2,8,9,7],[2,7,1,9,3],[5,3,8,0,1]])\n",
    "print(c)\n",
    "print(np.median(c,axis=1)) #row is for axis=1 ....median works with sorting of array then give answer\n",
    "print(np.median(c,axis=0)) #column for axis=0\n",
    "print(np.mean(c,axis=1))\n",
    "print(np.mean(c,axis=0))\n",
    "#mean is sum of elements along axis divide by no.of elements whereas numpy average is the function that computes--\n",
    "#--the weighted average according to their respective weight given in another array "
   ]
  },
  {
   "cell_type": "code",
   "execution_count": 20,
   "metadata": {},
   "outputs": [
    {
     "name": "stdout",
     "output_type": "stream",
     "text": [
      "[[[ 1  2]\n",
      "  [ 3  4]\n",
      "  [ 5  6]]\n",
      "\n",
      " [[ 1  3]\n",
      "  [ 5  7]\n",
      "  [ 9 11]]]\n"
     ]
    }
   ],
   "source": [
    "d=np.array([[[1,2],[3,4],[5,6]],[[1,3],[5,7],[9,11]]])\n",
    "print(d)"
   ]
  },
  {
   "cell_type": "code",
   "execution_count": 40,
   "metadata": {},
   "outputs": [
    {
     "name": "stdout",
     "output_type": "stream",
     "text": [
      "2.0\n",
      "24\n"
     ]
    }
   ],
   "source": [
    "e=[1,2,3,4]\n",
    "weight=[4,3,2,1]\n",
    "avg=[x*y for x,y in zip(e,weight)]\n",
    "avg2=sum(avg)/sum(e)\n",
    "print(avg2)\n",
    "\n",
    "f=np.product(e)   # to multiply whole array\n",
    "print(f)\n"
   ]
  },
  {
   "cell_type": "code",
   "execution_count": 41,
   "metadata": {},
   "outputs": [
    {
     "name": "stdout",
     "output_type": "stream",
     "text": [
      "2.0\n",
      "(2.0, 10.0)\n"
     ]
    }
   ],
   "source": [
    "a=np.array([1,2,3,4])\n",
    "wts=np.array([4,3,2,1])\n",
    "print(np.average(a,weights=wts))\n",
    "print(np.average([1,2,3,4],weights=[4,3,2,1],returned=True)) #first is average,second is sum of weights"
   ]
  },
  {
   "cell_type": "code",
   "execution_count": 58,
   "metadata": {},
   "outputs": [
    {
     "name": "stdout",
     "output_type": "stream",
     "text": [
      "[4 2 7 9 8 2 1 5]\n",
      "sorting x: [1 2 2 4 5 7 8 9]\n",
      "[[ 2 11  5]\n",
      " [ 9  6  3]]\n",
      "sorting y: [[ 2  5 11]\n",
      " [ 3  6  9]]\n",
      "[[ 2  6  3]\n",
      " [ 9 11  5]]\n",
      "[[ 2  5 11]\n",
      " [ 3  6  9]]\n"
     ]
    }
   ],
   "source": [
    "#sort,searching-----default:quick sort\n",
    "x=np.array([4,2,7,9,8,2,1,5])\n",
    "print(x)\n",
    "print(\"sorting x:\",np.sort(x))\n",
    "y=np.array([[2,11,5],[9,6,3]])\n",
    "print(y)\n",
    "print(\"sorting y:\",np.sort(y))   #default sort row-wise\n",
    "print(np.sort(y,axis=0))\n",
    "print(np.sort(y,axis=1))\n"
   ]
  },
  {
   "cell_type": "code",
   "execution_count": 68,
   "metadata": {},
   "outputs": [
    {
     "name": "stdout",
     "output_type": "stream",
     "text": [
      "[('name', 'S10'), ('age', '<i4')]\n",
      "[(b'shristi', 25) (b'muskan', 23) (b'sharad', 22)]\n",
      "[(b'muskan', 23) (b'sharad', 22) (b'shristi', 25)]\n",
      "[(b'sharad', 22) (b'muskan', 23) (b'shristi', 25)]\n",
      "[(b'muskan', 23) (b'sharad', 22) (b'shristi', 25)]\n"
     ]
    }
   ],
   "source": [
    "dt=np.dtype([(\"name\",'S10'),('age','int')])         #defining a data type in numpy\n",
    "p=np.array([('shristi',25),('muskan',23),('sharad',22)],dtype=dt) \n",
    "print(dt)\n",
    "print(p)\n",
    "print(np.sort(p))   #default order sorting by name\n",
    "print(np.sort(p,order='age'))  #sort by age\n",
    "print(np.sort(p,order='name'))  #sort by name"
   ]
  },
  {
   "cell_type": "code",
   "execution_count": 73,
   "metadata": {},
   "outputs": [
    {
     "name": "stdout",
     "output_type": "stream",
     "text": [
      "[(b'shristi', 25) (b'muskan', 23) (b'sharad', 22)]\n"
     ]
    }
   ],
   "source": [
    "q=np.array([('shristi',25),('muskan',23),('sharad',22)],dtype=([(\"name\",'S10'),('age','int')]))\n",
    "print(q)\n"
   ]
  },
  {
   "cell_type": "code",
   "execution_count": 78,
   "metadata": {},
   "outputs": [
    {
     "name": "stdout",
     "output_type": "stream",
     "text": [
      "[1 0 4 5 2 3]\n",
      "[[ 2 11  5]\n",
      " [ 9  6  3]]\n",
      "sorting r: [[0 2 1]\n",
      " [2 1 0]]\n",
      "[[0 1 1]\n",
      " [1 0 0]]\n",
      "[[0 2 1]\n",
      " [2 1 0]]\n",
      "[1 0 4 3 2 5 6]\n"
     ]
    }
   ],
   "source": [
    "t=np.array([3,2,8,9,4,6])\n",
    "q=np.argsort(t)\n",
    "print(q)  #it gives position of elements after sorting\n",
    "r=np.array([[2,11,5],[9,6,3]])\n",
    "print(r)\n",
    "print(\"sorting r:\",np.argsort(y))   \n",
    "print(np.argsort(r,axis=0))\n",
    "print(np.argsort(r,axis=1))\n",
    "s=np.array([\"karan\",\"is\",\"stupid\",\"person\",\"of\",\"the\",\"world\"])\n",
    "print(np.argsort(s))"
   ]
  },
  {
   "cell_type": "code",
   "execution_count": 85,
   "metadata": {},
   "outputs": [
    {
     "name": "stdout",
     "output_type": "stream",
     "text": [
      "[1 4 2 3 0 5]\n",
      "['e g', 'u i', 'm k', 'a l', 's n', 'd o']\n"
     ]
    }
   ],
   "source": [
    "tp=('s','e','m','a','u','d')\n",
    "st=('n','g','k','l','i','o')\n",
    "k=np.lexsort((tp,st))\n",
    "print(k)\n",
    "print([tp[i]+\" \"+st[i] for i in k])\n",
    " # sort first tuple with refernce to sorting the second tuple"
   ]
  },
  {
   "cell_type": "code",
   "execution_count": 87,
   "metadata": {},
   "outputs": [
    {
     "name": "stdout",
     "output_type": "stream",
     "text": [
      "[2 4 0 5 1 3]\n",
      "['tackle 1', 'self 11', 'muskan 2', 'father 4', 'lime 4', 'digit 6']\n"
     ]
    }
   ],
   "source": [
    "tp=('muskan','lime','tackle','digit','self','father')\n",
    "st=('2','4','1','6','11','4')\n",
    "k=np.lexsort((tp,st))\n",
    "print(k)\n",
    "print([tp[i]+\" \"+st[i] for i in k])"
   ]
  }
 ],
 "metadata": {
  "kernelspec": {
   "display_name": "Python 3",
   "language": "python",
   "name": "python3"
  },
  "language_info": {
   "codemirror_mode": {
    "name": "ipython",
    "version": 3
   },
   "file_extension": ".py",
   "mimetype": "text/x-python",
   "name": "python",
   "nbconvert_exporter": "python",
   "pygments_lexer": "ipython3",
   "version": "3.6.4"
  }
 },
 "nbformat": 4,
 "nbformat_minor": 2
}
