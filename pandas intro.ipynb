{
 "cells": [
  {
   "cell_type": "code",
   "execution_count": 1,
   "metadata": {},
   "outputs": [
    {
     "name": "stdout",
     "output_type": "stream",
     "text": [
      "Series([], dtype: float64)\n"
     ]
    }
   ],
   "source": [
    "#pandas is for series-----advance version of numpy\n",
    "\n",
    "import pandas as pd\n",
    "s=pd.Series()     #empty series\n",
    "print(s)"
   ]
  },
  {
   "cell_type": "code",
   "execution_count": 11,
   "metadata": {},
   "outputs": [
    {
     "name": "stdout",
     "output_type": "stream",
     "text": [
      "0    a\n",
      "1    c\n",
      "2    d\n",
      "3    f\n",
      "dtype: object\n",
      "100    a\n",
      "101    c\n",
      "102    d\n",
      "103    f\n",
      "dtype: object\n"
     ]
    }
   ],
   "source": [
    "import numpy as np\n",
    "\n",
    "#series by list\n",
    "a=np.array(['a','c','d','f']);\n",
    "x=pd.Series(a)                                #DEFAULT INDEX       \n",
    "print(x)\n",
    "t=pd.Series(a,index=[100,101,102,103])        #INDEX GIVEN\n",
    "print(t)"
   ]
  },
  {
   "cell_type": "code",
   "execution_count": 12,
   "metadata": {},
   "outputs": [
    {
     "name": "stdout",
     "output_type": "stream",
     "text": [
      "A    12\n",
      "B     4\n",
      "C     7\n",
      "D     9\n",
      "dtype: int64\n",
      "f    NaN\n",
      "d    NaN\n",
      "B    4.0\n",
      "h    NaN\n",
      "dtype: float64\n"
     ]
    }
   ],
   "source": [
    "#making series using dictionary\n",
    "b={'A':12,'B':4,'C':7,'D':9}\n",
    "m=pd.Series(b)                    #default indexing\n",
    "print(m)\n",
    "t=pd.Series(b,index=['f','d','B','h'])               #using index\n",
    "print(t)"
   ]
  },
  {
   "cell_type": "code",
   "execution_count": 14,
   "metadata": {},
   "outputs": [
    {
     "name": "stdout",
     "output_type": "stream",
     "text": [
      "0    5\n",
      "1    5\n",
      "2    5\n",
      "3    5\n",
      "4    5\n",
      "dtype: int64\n"
     ]
    }
   ],
   "source": [
    "#making series using scaler\n",
    "x=pd.Series(5,index=[0,1,2,3,4])            #index is compulsory for making series from scaler\n",
    "print(x)"
   ]
  },
  {
   "cell_type": "code",
   "execution_count": 19,
   "metadata": {},
   "outputs": [
    {
     "name": "stdout",
     "output_type": "stream",
     "text": [
      "1\n",
      "a    1\n",
      "b    2\n",
      "c    3\n",
      "dtype: int64\n",
      "c    3\n",
      "d    4\n",
      "e    5\n",
      "dtype: int64\n"
     ]
    }
   ],
   "source": [
    "#retrieving elements in series\n",
    "x=pd.Series([1,2,3,4,5],index=['a','b','c','d','e'])\n",
    "print(x[0])\n",
    "print(x[:3])\n",
    "print(x[-3:])"
   ]
  },
  {
   "cell_type": "code",
   "execution_count": 23,
   "metadata": {},
   "outputs": [
    {
     "name": "stdout",
     "output_type": "stream",
     "text": [
      "1\n"
     ]
    }
   ],
   "source": [
    "#retrieving elements by index label\n",
    "print(x['a'])\n",
    "#   print(x['f'])---->it will give keyerror if index not present"
   ]
  },
  {
   "cell_type": "code",
   "execution_count": 28,
   "metadata": {},
   "outputs": [
    {
     "name": "stdout",
     "output_type": "stream",
     "text": [
      "Empty DataFrame\n",
      "Columns: []\n",
      "Index: []\n"
     ]
    }
   ],
   "source": [
    "#empty dataframe\n",
    "s=pd.DataFrame()\n",
    "print(s)"
   ]
  },
  {
   "cell_type": "code",
   "execution_count": 30,
   "metadata": {},
   "outputs": [
    {
     "name": "stdout",
     "output_type": "stream",
     "text": [
      "   0\n",
      "0  1\n",
      "1  2\n",
      "2  3\n",
      "3  4\n",
      "4  5\n"
     ]
    }
   ],
   "source": [
    "#dataframe using list\n",
    "data=[1,2,3,4,5]\n",
    "t=pd.DataFrame(data)   #default index and column labels\n",
    "print(t)"
   ]
  },
  {
   "cell_type": "code",
   "execution_count": 37,
   "metadata": {},
   "outputs": [
    {
     "name": "stdout",
     "output_type": "stream",
     "text": [
      "     Name  Grade\n",
      "0  muskan     10\n",
      "1  sharad     12\n",
      "2   karan      5\n",
      "     Name  Grade\n",
      "0  muskan   10.0\n",
      "1  sharad   12.0\n",
      "2   karan    5.0\n"
     ]
    }
   ],
   "source": [
    "#2-d list\n",
    "data=[['muskan',10],['sharad',12],['karan',5]]\n",
    "t=pd.DataFrame(data,columns=['Name','Grade'])    #column label\n",
    "print(t)\n",
    "t=pd.DataFrame(data,columns=['Name','Grade'],dtype=float)       #dtype using\n",
    "print(t)"
   ]
  },
  {
   "cell_type": "code",
   "execution_count": 39,
   "metadata": {},
   "outputs": [
    {
     "name": "stdout",
     "output_type": "stream",
     "text": [
      "   Age   Name\n",
      "0    4    tom\n",
      "1    5  jerry\n",
      "2    6  karan\n",
      "3    7   mini\n",
      "4    8   tina\n"
     ]
    }
   ],
   "source": [
    "#dictionary with dataframe\n",
    "data={'Name':['tom','jerry','karan','mini','tina'],'Age':[4,5,6,7,8]}\n",
    "t=pd.DataFrame(data)\n",
    "print(t)"
   ]
  },
  {
   "cell_type": "code",
   "execution_count": 41,
   "metadata": {},
   "outputs": [
    {
     "name": "stdout",
     "output_type": "stream",
     "text": [
      "       Age   Name\n",
      "rank1    4    tom\n",
      "rank2    5  jerry\n",
      "rank3    6  karan\n",
      "rank4    7   mini\n",
      "rank5    8   tina\n"
     ]
    }
   ],
   "source": [
    "#dictionary with dataframe with index\n",
    "data={'Name':['tom','jerry','karan','mini','tina'],'Age':[4,5,6,7,8]}\n",
    "t=pd.DataFrame(data,index=['rank1','rank2','rank3','rank4','rank5'])\n",
    "print(t)"
   ]
  },
  {
   "cell_type": "code",
   "execution_count": 43,
   "metadata": {},
   "outputs": [
    {
     "name": "stdout",
     "output_type": "stream",
     "text": [
      "   a  b     c\n",
      "0  1  2   NaN\n",
      "1  3  5  12.0\n"
     ]
    }
   ],
   "source": [
    "#list of dict\n",
    "data=[{'a':1,'b':2},{'a':3,'b':5,'c':12}]\n",
    "t=pd.DataFrame(data)\n",
    "print(t)"
   ]
  },
  {
   "cell_type": "code",
   "execution_count": 46,
   "metadata": {},
   "outputs": [
    {
     "name": "stdout",
     "output_type": "stream",
     "text": [
      "        a   b\n",
      "first   3  12\n",
      "second  6   4\n",
      "        a  b1\n",
      "first   3 NaN\n",
      "second  6 NaN\n"
     ]
    }
   ],
   "source": [
    "data=[{'a':3,'b':12},{'a':6,'b':4}]\n",
    "t=pd.DataFrame(data,index=['first','second'],columns=['a','b'])\n",
    "print(t)\n",
    "t=pd.DataFrame(data,index=['first','second'],columns=['a','b1'])\n",
    "print(t)"
   ]
  },
  {
   "cell_type": "code",
   "execution_count": 48,
   "metadata": {},
   "outputs": [
    {
     "name": "stdout",
     "output_type": "stream",
     "text": [
      "   one  two\n",
      "a  1.0    1\n",
      "b  2.0    2\n",
      "c  3.0    3\n",
      "d  4.0    4\n",
      "e  NaN    5\n",
      "a    1.0\n",
      "b    2.0\n",
      "c    3.0\n",
      "d    4.0\n",
      "e    NaN\n",
      "Name: one, dtype: float64\n"
     ]
    }
   ],
   "source": [
    "#dict of series\n",
    "data={'one':pd.Series([1,2,3,4],index=['a','b','c','d']),\n",
    "      'two':pd.Series([1,2,3,4,5],index=['a','b','c','d','e'])}\n",
    "t=pd.DataFrame(data)\n",
    "print(t)\n",
    "print(t['one'])"
   ]
  },
  {
   "cell_type": "code",
   "execution_count": 53,
   "metadata": {},
   "outputs": [
    {
     "name": "stdout",
     "output_type": "stream",
     "text": [
      "   one  two  three  four\n",
      "a  1.0    1      7     1\n",
      "b  2.0    2      2     5\n",
      "c  3.0    3      8     3\n",
      "d  4.0    4      4     6\n",
      "e  NaN    5      9     5\n",
      "   one  two  three  four\n",
      "a  1.0    1      7     1\n",
      "b  2.0    2      2     5\n",
      "c  3.0    3      8     3\n",
      "d  4.0    4      4     6\n",
      "e  NaN    5      9     5\n"
     ]
    }
   ],
   "source": [
    "#adding a column\n",
    "t['three']=pd.Series([7,2,8,4,9],index=['a','b','c','d','e'])\n",
    "print(t)\n",
    "t['four']=pd.Series([1,5,3,6,5],index=['a','b','c','d','e'])\n",
    "print(t)"
   ]
  },
  {
   "cell_type": "code",
   "execution_count": 54,
   "metadata": {},
   "outputs": [
    {
     "name": "stdout",
     "output_type": "stream",
     "text": [
      "   two  three  four\n",
      "a    1      7     1\n",
      "b    2      2     5\n",
      "c    3      8     3\n",
      "d    4      4     6\n",
      "e    5      9     5\n",
      "   two  three\n",
      "a    1      7\n",
      "b    2      2\n",
      "c    3      8\n",
      "d    4      4\n",
      "e    5      9\n"
     ]
    }
   ],
   "source": [
    "#deletion of column\n",
    "del(t['one'])          #using del\n",
    "print(t)\n",
    "t.pop('four')          #using pop\n",
    "print(t)"
   ]
  }
 ],
 "metadata": {
  "kernelspec": {
   "display_name": "Python 3",
   "language": "python",
   "name": "python3"
  },
  "language_info": {
   "codemirror_mode": {
    "name": "ipython",
    "version": 3
   },
   "file_extension": ".py",
   "mimetype": "text/x-python",
   "name": "python",
   "nbconvert_exporter": "python",
   "pygments_lexer": "ipython3",
   "version": "3.6.4"
  }
 },
 "nbformat": 4,
 "nbformat_minor": 2
}
