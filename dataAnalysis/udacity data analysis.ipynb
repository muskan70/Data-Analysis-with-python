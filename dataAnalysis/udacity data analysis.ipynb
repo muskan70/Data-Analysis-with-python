{
 "cells": [
  {
   "cell_type": "code",
   "execution_count": 2,
   "metadata": {},
   "outputs": [
    {
     "name": "stdout",
     "output_type": "stream",
     "text": [
      "OrderedDict([('account_key', '448'), ('status', 'canceled'), ('join_date', '2014-11-10'), ('cancel_date', '2015-01-14'), ('days_to_cancel', '65'), ('is_udacity', 'True'), ('is_canceled', 'True')])\n",
      "OrderedDict([('acct', '0'), ('utc_date', '2015-01-09'), ('num_courses_visited', '1.0'), ('total_minutes_visited', '11.6793745'), ('lessons_completed', '0.0'), ('projects_completed', '0.0')])\n",
      "OrderedDict([('creation_date', '2015-01-14'), ('completion_date', '2015-01-16'), ('assigned_rating', 'UNGRADED'), ('account_key', '256'), ('lesson_key', '3176718735'), ('processing_state', 'EVALUATED')])\n"
     ]
    }
   ],
   "source": [
    "import unicodecsv\n",
    "with open('enrollments.csv','rb') as f:\n",
    "    reader=unicodecsv.DictReader(f)\n",
    "    enrollments=list(reader)\n",
    "with open('daily_engagement.csv','rb') as f:\n",
    "    reader=unicodecsv.DictReader(f)\n",
    "    daily_work=list(reader)   \n",
    "with open('project_submissions.csv','rb') as f:\n",
    "    reader=unicodecsv.DictReader(f)\n",
    "    projects=list(reader)   \n",
    "    \n",
    "print(enrollments[0])\n",
    "print(daily_work[0])\n",
    "print(projects[0])\n",
    "    "
   ]
  },
  {
   "cell_type": "code",
   "execution_count": 3,
   "metadata": {},
   "outputs": [
    {
     "name": "stdout",
     "output_type": "stream",
     "text": [
      "OrderedDict([('account_key', '448'), ('status', 'canceled'), ('join_date', '2014-11-10'), ('cancel_date', '2015-01-14'), ('days_to_cancel', '65'), ('is_udacity', 'True'), ('is_canceled', 'True')])\n",
      "OrderedDict([('acct', '0'), ('utc_date', '2015-01-09'), ('num_courses_visited', '1.0'), ('total_minutes_visited', '11.6793745'), ('lessons_completed', '0.0'), ('projects_completed', '0.0')])\n",
      "OrderedDict([('creation_date', '2015-01-14'), ('completion_date', '2015-01-16'), ('assigned_rating', 'UNGRADED'), ('account_key', '256'), ('lesson_key', '3176718735'), ('processing_state', 'EVALUATED')])\n"
     ]
    }
   ],
   "source": [
    "import unicodecsv\n",
    "def read_csv(filename):\n",
    "    with open(filename,'rb') as f:\n",
    "        reader=unicodecsv.DictReader(f)\n",
    "        return list(reader)\n",
    "    \n",
    "enrollments=read_csv('enrollments.csv')    \n",
    "daily_engagement=read_csv('daily_engagement.csv')  \n",
    "project_submissions=read_csv('project_submissions.csv')    \n",
    "    \n",
    "print(enrollments[0])\n",
    "print(daily_engagement[0])\n",
    "print(project_submissions[0])"
   ]
  },
  {
   "cell_type": "code",
   "execution_count": 4,
   "metadata": {},
   "outputs": [
    {
     "name": "stdout",
     "output_type": "stream",
     "text": [
      "OrderedDict([('acct', '0'), ('utc_date', datetime.datetime(2015, 1, 9, 0, 0)), ('num_courses_visited', 1), ('total_minutes_visited', 11.6793745), ('lessons_completed', 0), ('projects_completed', 0)])\n"
     ]
    },
    {
     "data": {
      "text/plain": [
       "OrderedDict([('account_key', '448'),\n",
       "             ('status', 'canceled'),\n",
       "             ('join_date', datetime.datetime(2014, 11, 10, 0, 0)),\n",
       "             ('cancel_date', datetime.datetime(2015, 1, 14, 0, 0)),\n",
       "             ('days_to_cancel', 65),\n",
       "             ('is_udacity', True),\n",
       "             ('is_canceled', True)])"
      ]
     },
     "execution_count": 4,
     "metadata": {},
     "output_type": "execute_result"
    }
   ],
   "source": [
    "from datetime import datetime as dt\n",
    "\n",
    "# Takes a date as a string, and returns a Python datetime object. \n",
    "# If there is no date given, returns None\n",
    "def parse_date(date):\n",
    "    if date == '':\n",
    "        return None\n",
    "    else:\n",
    "        return dt.strptime(date, '%Y-%m-%d')\n",
    "    \n",
    "# Takes a string which is either an empty string or represents an integer,\n",
    "# and returns an int or None.\n",
    "def parse_maybe_int(i):\n",
    "    if i == '':\n",
    "        return None\n",
    "    else:\n",
    "        return int(i)\n",
    "\n",
    "# Clean up the data types in the enrollments table\n",
    "for enrollment in enrollments:\n",
    "    enrollment['cancel_date'] = parse_date(enrollment['cancel_date'])\n",
    "    enrollment['days_to_cancel'] = parse_maybe_int(enrollment['days_to_cancel'])\n",
    "    enrollment['is_canceled'] = enrollment['is_canceled'] == 'True'\n",
    "    enrollment['is_udacity'] = enrollment['is_udacity'] == 'True'\n",
    "    enrollment['join_date'] = parse_date(enrollment['join_date'])\n",
    "    \n",
    "for engagement_record in daily_engagement:\n",
    "    engagement_record['lessons_completed'] = int(float(engagement_record['lessons_completed']))\n",
    "    engagement_record['num_courses_visited'] = int(float(engagement_record['num_courses_visited']))\n",
    "    engagement_record['projects_completed'] = int(float(engagement_record['projects_completed']))\n",
    "    engagement_record['total_minutes_visited'] = float(engagement_record['total_minutes_visited'])\n",
    "    engagement_record['utc_date'] = parse_date(engagement_record['utc_date'])\n",
    "    \n",
    "for submission in project_submissions:\n",
    "    submission['completion_date'] = parse_date(submission['completion_date'])\n",
    "    submission['creation_date'] = parse_date(submission['creation_date'])\n",
    "\n",
    "project_submissions[0]    \n",
    "    \n",
    "print(daily_engagement[0])    \n",
    "    \n",
    "enrollments[0]"
   ]
  },
  {
   "cell_type": "code",
   "execution_count": 5,
   "metadata": {},
   "outputs": [],
   "source": [
    "for i in daily_engagement:\n",
    "    i['account_key']=i['acct']\n",
    "    del(i['acct'])"
   ]
  },
  {
   "cell_type": "code",
   "execution_count": 6,
   "metadata": {},
   "outputs": [
    {
     "name": "stdout",
     "output_type": "stream",
     "text": [
      "No.of entries in enrollments.csv: 1640\n",
      "No.of entries in daily_engagement.csv: 136240\n",
      "No.of entries in project_submissions.csv: 3642\n",
      "NO.OF UNIQUE STUDENTS IN enrollments.csv: 1302\n",
      "NO.OF UNIQUE STUDENTS IN daily_engagement.csv: 1237\n",
      "NO.OF UNIQUE STUDENTS IN project_submissions.csv: 743\n"
     ]
    }
   ],
   "source": [
    "print(\"No.of entries in enrollments.csv:\",len(enrollments))\n",
    "print(\"No.of entries in daily_engagement.csv:\",len(daily_engagement))\n",
    "print(\"No.of entries in project_submissions.csv:\",len(project_submissions))\n",
    "\n",
    "def uni(l):\n",
    "    a=set()\n",
    "    for i in l:\n",
    "        a.add(i['account_key'])\n",
    "    return a\n",
    "\n",
    "print(\"NO.OF UNIQUE STUDENTS IN enrollments.csv:\",len(uni(enrollments)))\n",
    "print(\"NO.OF UNIQUE STUDENTS IN daily_engagement.csv:\",len(uni(daily_engagement)))\n",
    "print(\"NO.OF UNIQUE STUDENTS IN project_submissions.csv:\",len(uni(project_submissions)))"
   ]
  },
  {
   "cell_type": "code",
   "execution_count": 7,
   "metadata": {},
   "outputs": [
    {
     "name": "stdout",
     "output_type": "stream",
     "text": [
      "OrderedDict([('account_key', '1219'), ('status', 'canceled'), ('join_date', datetime.datetime(2014, 11, 12, 0, 0)), ('cancel_date', datetime.datetime(2014, 11, 12, 0, 0)), ('days_to_cancel', 0), ('is_udacity', False), ('is_canceled', True)])\n"
     ]
    }
   ],
   "source": [
    "x=uni(daily_engagement)\n",
    "for i in enrollments:\n",
    "    k=i['account_key']\n",
    "    if(k not in x):\n",
    "        print(i)\n",
    "        break"
   ]
  },
  {
   "cell_type": "code",
   "execution_count": 8,
   "metadata": {},
   "outputs": [
    {
     "name": "stdout",
     "output_type": "stream",
     "text": [
      "OrderedDict([('account_key', '1304'), ('status', 'canceled'), ('join_date', datetime.datetime(2015, 1, 10, 0, 0)), ('cancel_date', datetime.datetime(2015, 3, 10, 0, 0)), ('days_to_cancel', 59), ('is_udacity', True), ('is_canceled', True)])\n",
      "OrderedDict([('account_key', '1304'), ('status', 'canceled'), ('join_date', datetime.datetime(2015, 3, 10, 0, 0)), ('cancel_date', datetime.datetime(2015, 6, 17, 0, 0)), ('days_to_cancel', 99), ('is_udacity', True), ('is_canceled', True)])\n",
      "OrderedDict([('account_key', '1101'), ('status', 'current'), ('join_date', datetime.datetime(2015, 2, 25, 0, 0)), ('cancel_date', None), ('days_to_cancel', None), ('is_udacity', True), ('is_canceled', False)])\n"
     ]
    }
   ],
   "source": [
    "for i in enrollments:\n",
    "    k=i['account_key']\n",
    "    if((k not in x) and (i['join_date']!=i['cancel_date'])):\n",
    "       print(i)"
   ]
  },
  {
   "cell_type": "code",
   "execution_count": 9,
   "metadata": {},
   "outputs": [
    {
     "data": {
      "text/plain": [
       "6"
      ]
     },
     "execution_count": 9,
     "metadata": {},
     "output_type": "execute_result"
    }
   ],
   "source": [
    "udacity_test_accounts=set()\n",
    "for i in enrollments:\n",
    "    if(i['is_udacity']):\n",
    "        udacity_test_accounts.add(i['account_key'])\n",
    "len(udacity_test_accounts)        "
   ]
  },
  {
   "cell_type": "code",
   "execution_count": 10,
   "metadata": {},
   "outputs": [],
   "source": [
    "def remove_test_data(data):\n",
    "    new_data=[]\n",
    "    for i in data:\n",
    "        if(i['account_key'] not in udacity_test_accounts):\n",
    "              new_data.append(i)\n",
    "                \n",
    "    return new_data"
   ]
  },
  {
   "cell_type": "code",
   "execution_count": 11,
   "metadata": {},
   "outputs": [
    {
     "name": "stdout",
     "output_type": "stream",
     "text": [
      "1622\n",
      "135656\n",
      "3634\n"
     ]
    }
   ],
   "source": [
    "enrollments1=remove_test_data(enrollments)\n",
    "print(len(enrollments1))\n",
    "\n",
    "daily_engagement1=remove_test_data(daily_engagement)\n",
    "print(len(daily_engagement1))\n",
    "\n",
    "project_submissions1=remove_test_data(project_submissions)\n",
    "print(len(project_submissions1))"
   ]
  },
  {
   "cell_type": "code",
   "execution_count": 12,
   "metadata": {},
   "outputs": [
    {
     "name": "stdout",
     "output_type": "stream",
     "text": [
      "995\n"
     ]
    }
   ],
   "source": [
    "paid_students={}\n",
    "for i in enrollments1:\n",
    "    if(not i['is_canceled'] or i['days_to_cancel']>7):\n",
    "        accnt=i['account_key']\n",
    "        enroll_date=i['join_date']\n",
    "        if(accnt not in paid_students or enroll_date>paid_students[accnt]):\n",
    "            paid_students[accnt]=enroll_date\n",
    "print(len(paid_students))        "
   ]
  },
  {
   "cell_type": "code",
   "execution_count": 13,
   "metadata": {},
   "outputs": [],
   "source": [
    "def within_one_week(join_date,engagement_date):\n",
    "    ans=engagement_date-join_date\n",
    "    return ans.days<7 and ans.days>=0"
   ]
  },
  {
   "cell_type": "code",
   "execution_count": 14,
   "metadata": {},
   "outputs": [],
   "source": [
    "def remove_unpaid_students(data):\n",
    "    new_data=[]\n",
    "    for i in data:\n",
    "        if(i['account_key'] in paid_students):\n",
    "            new_data.append(i)\n",
    "    return new_data        "
   ]
  },
  {
   "cell_type": "code",
   "execution_count": 15,
   "metadata": {},
   "outputs": [
    {
     "name": "stdout",
     "output_type": "stream",
     "text": [
      "1293\n",
      "134549\n",
      "3618\n"
     ]
    }
   ],
   "source": [
    "paid_enrollments=remove_unpaid_students(enrollments1)\n",
    "paid_daily_engagement=remove_unpaid_students(daily_engagement1)\n",
    "paid_project_submissions=remove_unpaid_students(project_submissions1)\n",
    "\n",
    "print(len(paid_enrollments))\n",
    "print(len(paid_daily_engagement))\n",
    "print(len(paid_project_submissions))"
   ]
  },
  {
   "cell_type": "code",
   "execution_count": 16,
   "metadata": {},
   "outputs": [
    {
     "data": {
      "text/plain": [
       "6919"
      ]
     },
     "execution_count": 16,
     "metadata": {},
     "output_type": "execute_result"
    }
   ],
   "source": [
    "paid_engagement_in_first_week=[]\n",
    "for i in paid_daily_engagement:\n",
    "    engage_date=i['utc_date']\n",
    "    join_date=paid_students[i['account_key']]\n",
    "    if(within_one_week(join_date,engage_date)):\n",
    "        paid_engagement_in_first_week.append(i)\n",
    "        \n",
    "len(paid_engagement_in_first_week)        "
   ]
  },
  {
   "cell_type": "code",
   "execution_count": 17,
   "metadata": {},
   "outputs": [
    {
     "data": {
      "text/plain": [
       "731"
      ]
     },
     "execution_count": 17,
     "metadata": {},
     "output_type": "execute_result"
    }
   ],
   "source": [
    "noof_students_who_submitted_projects=set()\n",
    "for i in paid_project_submissions:\n",
    "    noof_students_who_submitted_projects.add(i['account_key'])\n",
    "    \n",
    "len(noof_students_who_submitted_projects)    "
   ]
  },
  {
   "cell_type": "code",
   "execution_count": 18,
   "metadata": {},
   "outputs": [],
   "source": [
    "from collections import defaultdict\n",
    "def grouping_records(data,key_name):\n",
    "    group_data=defaultdict(list)\n",
    "    for i in data:\n",
    "        group_data[i[key_name]].append(i) \n",
    "    return group_data\n",
    "        \n",
    "def group_total_by_key(data,key):\n",
    "    group_total={}\n",
    "    for accnt,records in data.items():\n",
    "        total=0\n",
    "        for j in records:\n",
    "            total+=j[key]\n",
    "        group_total[accnt]=total \n",
    "    return group_total    \n",
    "    "
   ]
  },
  {
   "cell_type": "code",
   "execution_count": 19,
   "metadata": {},
   "outputs": [],
   "source": [
    "import numpy as np\n",
    "def describe_data(total):\n",
    "    print(\"mean:\",np.mean(total))\n",
    "    print(\"standard deviation:\",np.std(total))    \n",
    "    print(\"maximum:\",np.max(total))   \n",
    "    print(\"minimum:\",np.min(total))"
   ]
  },
  {
   "cell_type": "code",
   "execution_count": 20,
   "metadata": {},
   "outputs": [
    {
     "name": "stdout",
     "output_type": "stream",
     "text": [
      "mean: 306.70832675342825\n",
      "standard deviation: 412.99693340852957\n",
      "maximum: 3564.7332644989997\n",
      "minimum: 0.0\n"
     ]
    }
   ],
   "source": [
    "engagement_by_account=grouping_records(paid_engagement_in_first_week,'account_key')\n",
    "total_minutes_by_account=group_total_by_key(engagement_by_account,'total_minutes_visited')\n",
    "total_minutes=list(total_minutes_by_account.values())\n",
    "describe_data(total_minutes)"
   ]
  },
  {
   "cell_type": "code",
   "execution_count": 21,
   "metadata": {},
   "outputs": [
    {
     "name": "stdout",
     "output_type": "stream",
     "text": [
      "3564.7332644989997\n"
     ]
    }
   ],
   "source": [
    "max_minutes=0\n",
    "student_with_max_minutes=None\n",
    "for accnt,record in total_minutes_by_account.items():\n",
    "    if(record>max_minutes):\n",
    "        student_with_max_minutes=accnt\n",
    "        max_minutes=record\n",
    "        \n",
    "print(max_minutes)        \n",
    "        "
   ]
  },
  {
   "cell_type": "code",
   "execution_count": 151,
   "metadata": {},
   "outputs": [
    {
     "name": "stdout",
     "output_type": "stream",
     "text": [
      "OrderedDict([('utc_date', datetime.datetime(2015, 7, 9, 0, 0)), ('num_courses_visited', 4), ('total_minutes_visited', 850.519339666), ('lessons_completed', 4), ('projects_completed', 0), ('account_key', '163')])\n",
      "OrderedDict([('utc_date', datetime.datetime(2015, 7, 10, 0, 0)), ('num_courses_visited', 6), ('total_minutes_visited', 872.633923334), ('lessons_completed', 6), ('projects_completed', 0), ('account_key', '163')])\n",
      "OrderedDict([('utc_date', datetime.datetime(2015, 7, 11, 0, 0)), ('num_courses_visited', 2), ('total_minutes_visited', 777.018903666), ('lessons_completed', 6), ('projects_completed', 0), ('account_key', '163')])\n",
      "OrderedDict([('utc_date', datetime.datetime(2015, 7, 12, 0, 0)), ('num_courses_visited', 1), ('total_minutes_visited', 294.568774), ('lessons_completed', 2), ('projects_completed', 0), ('account_key', '163')])\n",
      "OrderedDict([('utc_date', datetime.datetime(2015, 7, 13, 0, 0)), ('num_courses_visited', 3), ('total_minutes_visited', 471.2139785), ('lessons_completed', 1), ('projects_completed', 0), ('account_key', '163')])\n",
      "OrderedDict([('utc_date', datetime.datetime(2015, 7, 14, 0, 0)), ('num_courses_visited', 2), ('total_minutes_visited', 298.778345333), ('lessons_completed', 1), ('projects_completed', 0), ('account_key', '163')])\n",
      "OrderedDict([('utc_date', datetime.datetime(2015, 7, 15, 0, 0)), ('num_courses_visited', 0), ('total_minutes_visited', 0.0), ('lessons_completed', 0), ('projects_completed', 0), ('account_key', '163')])\n"
     ]
    }
   ],
   "source": [
    "for record in paid_engagement_in_first_week:\n",
    "    if(record['account_key']==student_with_max_minutes):\n",
    "        print(record)"
   ]
  },
  {
   "cell_type": "code",
   "execution_count": 152,
   "metadata": {},
   "outputs": [
    {
     "name": "stdout",
     "output_type": "stream",
     "text": [
      "mean: 1.636180904522613\n",
      "standard deviation: 3.002561299829423\n",
      "maximum: 36\n",
      "minimum: 0\n"
     ]
    }
   ],
   "source": [
    "total_lessons_by_account=group_total_by_key(engagement_by_account,'lessons_completed')\n",
    "total_lessons=list(total_lessons_by_account.values())\n",
    "describe_data(total_lessons)   "
   ]
  },
  {
   "cell_type": "code",
   "execution_count": 153,
   "metadata": {},
   "outputs": [],
   "source": [
    "def group_number(data,key):\n",
    "    grouped_result={}\n",
    "    for accnt,records in data.items():\n",
    "        count=0\n",
    "        for j in records:\n",
    "            if(j[key]>0):\n",
    "                count+=1\n",
    "        grouped_result[accnt]=count        \n",
    "    return grouped_result"
   ]
  },
  {
   "cell_type": "code",
   "execution_count": 154,
   "metadata": {},
   "outputs": [
    {
     "name": "stdout",
     "output_type": "stream",
     "text": [
      "mean: 2.8673366834170855\n",
      "standard deviation: 2.2551980029196814\n",
      "maximum: 7\n",
      "minimum: 0\n"
     ]
    }
   ],
   "source": [
    "noof_visit_per_week_by_account=group_number(engagement_by_account,'num_courses_visited')\n",
    "total_days=list(noof_visit_per_week_by_account.values())\n",
    "describe_data(total_days)"
   ]
  },
  {
   "cell_type": "code",
   "execution_count": 155,
   "metadata": {},
   "outputs": [
    {
     "name": "stdout",
     "output_type": "stream",
     "text": [
      "OrderedDict([('creation_date', datetime.datetime(2015, 1, 10, 0, 0)), ('completion_date', datetime.datetime(2015, 1, 13, 0, 0)), ('assigned_rating', 'INCOMPLETE'), ('account_key', '256'), ('lesson_key', '3176718735'), ('processing_state', 'EVALUATED')])\n"
     ]
    }
   ],
   "source": [
    "print(paid_project_submissions[1])"
   ]
  },
  {
   "cell_type": "code",
   "execution_count": 157,
   "metadata": {},
   "outputs": [
    {
     "name": "stdout",
     "output_type": "stream",
     "text": [
      "647\n"
     ]
    }
   ],
   "source": [
    "pass_projects=set()\n",
    "for i in paid_project_submissions:\n",
    "    if((i['lesson_key']=='3176718735' or i['lesson_key']=='746169184')and (i['assigned_rating']=='PASSED' or i['assigned_rating']=='DISTINCTION')):\n",
    "        pass_projects.add(i['account_key'])\n",
    "print(len(pass_projects))"
   ]
  },
  {
   "cell_type": "code",
   "execution_count": 161,
   "metadata": {},
   "outputs": [
    {
     "name": "stdout",
     "output_type": "stream",
     "text": [
      "4527\n",
      "2392\n"
     ]
    }
   ],
   "source": [
    "passing_engagement=[]\n",
    "non_passing_engagement=[]\n",
    "for i in paid_engagement_in_first_week:\n",
    "    if(i['account_key'] in pass_projects):\n",
    "        passing_engagement.append(i)\n",
    "    else:\n",
    "        non_passing_engagement.append(i)\n",
    "        \n",
    "print(len(passing_engagement))       \n",
    "print(len(non_passing_engagement))        "
   ]
  },
  {
   "cell_type": "code",
   "execution_count": 163,
   "metadata": {},
   "outputs": [
    {
     "name": "stdout",
     "output_type": "stream",
     "text": [
      "OrderedDict([('utc_date', datetime.datetime(2015, 1, 9, 0, 0)), ('num_courses_visited', 1), ('total_minutes_visited', 11.6793745), ('lessons_completed', 0), ('projects_completed', 0), ('account_key', '0')])\n",
      "OrderedDict([('utc_date', datetime.datetime(2015, 7, 8, 0, 0)), ('num_courses_visited', 0), ('total_minutes_visited', 0.0), ('lessons_completed', 0), ('projects_completed', 0), ('account_key', '653')])\n"
     ]
    }
   ],
   "source": [
    "print(passing_engagement[0])\n",
    "print(non_passing_engagement[0])"
   ]
  },
  {
   "cell_type": "code",
   "execution_count": 173,
   "metadata": {},
   "outputs": [
    {
     "name": "stdout",
     "output_type": "stream",
     "text": [
      "passing engagement results of total minutes:\n",
      "mean: 394.58604648350865\n",
      "standard deviation: 448.4995193265521\n",
      "maximum: 3564.7332644989997\n",
      "minimum: 0.0\n"
     ]
    },
    {
     "data": {
      "image/png": "[encoded data removed]",
      "text/plain": [
       "<matplotlib.figure.Figure at 0x1de06f6ada0>"
      ]
     },
     "metadata": {},
     "output_type": "display_data"
    },
    {
     "name": "stdout",
     "output_type": "stream",
     "text": [
      "non-passing engagement results of total minutes:\n",
      "mean: 143.32647426675584\n",
      "standard deviation: 269.5386190114951\n",
      "maximum: 1768.5227493319999\n",
      "minimum: 0.0\n"
     ]
    },
    {
     "data": {
      "image/png": "[encoded data removed]",
      "text/plain": [
       "<matplotlib.figure.Figure at 0x1de06f2f4e0>"
      ]
     },
     "metadata": {},
     "output_type": "display_data"
    }
   ],
   "source": [
    "from matplotlib import pyplot as plt\n",
    "% matplotlib inline\n",
    "print(\"passing engagement results of total minutes:\")\n",
    "engagement_by_account=grouping_records(passing_engagement,'account_key')\n",
    "total_minutes_by_account=group_total_by_key(engagement_by_account,'total_minutes_visited')\n",
    "total_minutes=list(total_minutes_by_account.values())\n",
    "describe_data(total_minutes)\n",
    "plt.hist(total_minutes)\n",
    "plt.show()\n",
    "print(\"non-passing engagement results of total minutes:\")\n",
    "engagement_by_account=grouping_records(non_passing_engagement,'account_key')\n",
    "total_minutes_by_account=group_total_by_key(engagement_by_account,'total_minutes_visited')\n",
    "total_minutes=list(total_minutes_by_account.values())\n",
    "describe_data(total_minutes)\n",
    "plt.hist(total_minutes)\n",
    "plt.show()"
   ]
  },
  {
   "cell_type": "code",
   "execution_count": 176,
   "metadata": {},
   "outputs": [
    {
     "name": "stdout",
     "output_type": "stream",
     "text": [
      "passing engagement results of total lessons:\n",
      "mean: 2.052550231839258\n",
      "standard deviation: 3.1422270555779344\n",
      "maximum: 36\n",
      "minimum: 0\n"
     ]
    },
    {
     "data": {
      "image/png": "[encoded data removed]",
      "text/plain": [
       "<matplotlib.figure.Figure at 0x1de06e867f0>"
      ]
     },
     "metadata": {},
     "output_type": "display_data"
    },
    {
     "name": "stdout",
     "output_type": "stream",
     "text": [
      "non-passing engagement results of total lessons:\n",
      "mean: 0.8620689655172413\n",
      "standard deviation: 2.5491599418312028\n",
      "maximum: 27\n",
      "minimum: 0\n"
     ]
    },
    {
     "data": {
      "image/png": "[encoded data removed]",
      "text/plain": [
       "<matplotlib.figure.Figure at 0x1de06f32da0>"
      ]
     },
     "metadata": {},
     "output_type": "display_data"
    }
   ],
   "source": [
    "print(\"passing engagement results of total lessons:\")\n",
    "engagement_by_account=grouping_records(passing_engagement,'account_key')\n",
    "total_lessons_by_account=group_total_by_key(engagement_by_account,'lessons_completed')\n",
    "total_lessons=list(total_lessons_by_account.values())\n",
    "describe_data(total_lessons) \n",
    "plt.hist(total_lessons)\n",
    "plt.show()\n",
    "print(\"non-passing engagement results of total lessons:\")\n",
    "engagement_by_account=grouping_records(non_passing_engagement,'account_key')\n",
    "total_lessons_by_account=group_total_by_key(engagement_by_account,'lessons_completed')\n",
    "total_lessons=list(total_lessons_by_account.values())\n",
    "describe_data(total_lessons) \n",
    "plt.hist(total_lessons)\n",
    "plt.show()"
   ]
  },
  {
   "cell_type": "code",
   "execution_count": 177,
   "metadata": {},
   "outputs": [
    {
     "name": "stdout",
     "output_type": "stream",
     "text": [
      "passing engagement results of no.of days visit per week:\n",
      "mean: 3.384853168469861\n",
      "standard deviation: 2.2588214709184595\n",
      "maximum: 7\n",
      "minimum: 0\n"
     ]
    },
    {
     "data": {
      "image/png": "[encoded data removed]",
      "text/plain": [
       "<matplotlib.figure.Figure at 0x1de06eca710>"
      ]
     },
     "metadata": {},
     "output_type": "display_data"
    },
    {
     "name": "stdout",
     "output_type": "stream",
     "text": [
      "non-passing engagement results of no.of days visit per week:\n",
      "mean: 1.9051724137931034\n",
      "standard deviation: 1.9057314413619046\n",
      "maximum: 7\n",
      "minimum: 0\n"
     ]
    },
    {
     "data": {
      "image/png": "[encoded data removed]",
      "text/plain": [
       "<matplotlib.figure.Figure at 0x1de06fc6c18>"
      ]
     },
     "metadata": {},
     "output_type": "display_data"
    }
   ],
   "source": [
    "print(\"passing engagement results of no.of days visit per week:\")\n",
    "engagement_by_account=grouping_records(passing_engagement,'account_key')\n",
    "noof_visit_per_week_by_account=group_number(engagement_by_account,'num_courses_visited')\n",
    "total_days=list(noof_visit_per_week_by_account.values())\n",
    "describe_data(total_days) \n",
    "plt.hist(total_days)\n",
    "plt.show()\n",
    "print(\"non-passing engagement results of no.of days visit per week:\")\n",
    "engagement_by_account=grouping_records(non_passing_engagement,'account_key')\n",
    "noof_visit_per_week_by_account=group_number(engagement_by_account,'num_courses_visited')\n",
    "total_days=list(noof_visit_per_week_by_account.values())\n",
    "describe_data(total_days) \n",
    "plt.hist(total_days)\n",
    "plt.show()"
   ]
  },
  {
   "cell_type": "code",
   "execution_count": 180,
   "metadata": {},
   "outputs": [
    {
     "data": {
      "image/png": "[encoded data removed]",
      "text/plain": [
       "<matplotlib.figure.Figure at 0x1de0642c208>"
      ]
     },
     "metadata": {},
     "output_type": "display_data"
    }
   ],
   "source": [
    "import seaborn as se\n",
    "plt.hist(total_days,bins=8)\n",
    "plt.show()"
   ]
  }
 ],
 "metadata": {
  "kernelspec": {
   "display_name": "Python [default]",
   "language": "python",
   "name": "python3"
  },
  "language_info": {
   "codemirror_mode": {
    "name": "ipython",
    "version": 3
   },
   "file_extension": ".py",
   "mimetype": "text/x-python",
   "name": "python",
   "nbconvert_exporter": "python",
   "pygments_lexer": "ipython3",
   "version": "3.6.4"
  }
 },
 "nbformat": 4,
 "nbformat_minor": 2
}
