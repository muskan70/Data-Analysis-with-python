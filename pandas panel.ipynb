{
 "cells": [
  {
   "cell_type": "code",
   "execution_count": 1,
   "metadata": {},
   "outputs": [
    {
     "name": "stdout",
     "output_type": "stream",
     "text": [
      "<class 'pandas.core.panel.Panel'>\n",
      "Dimensions: 0 (items) x 0 (major_axis) x 0 (minor_axis)\n",
      "Items axis: None\n",
      "Major_axis axis: None\n",
      "Minor_axis axis: None\n"
     ]
    }
   ],
   "source": [
    "import pandas as pd\n",
    "x=pd.Panel()     #empty panel\n",
    "print(x)"
   ]
  },
  {
   "cell_type": "code",
   "execution_count": 4,
   "metadata": {},
   "outputs": [
    {
     "name": "stdout",
     "output_type": "stream",
     "text": [
      "<class 'pandas.core.panel.Panel'>\n",
      "Dimensions: 2 (items) x 4 (major_axis) x 5 (minor_axis)\n",
      "Items axis: 0 to 1\n",
      "Major_axis axis: 0 to 3\n",
      "Minor_axis axis: 0 to 4\n"
     ]
    }
   ],
   "source": [
    "import numpy as np\n",
    "data=np.random.rand(2,4,5)     #panel with all 3 random axis values\n",
    "x=pd.Panel(data)\n",
    "print(x)"
   ]
  },
  {
   "cell_type": "code",
   "execution_count": 10,
   "metadata": {},
   "outputs": [
    {
     "name": "stdout",
     "output_type": "stream",
     "text": [
      "<class 'pandas.core.panel.Panel'>\n",
      "Dimensions: 2 (items) x 4 (major_axis) x 6 (minor_axis)\n",
      "Items axis: Item1 to Item2\n",
      "Major_axis axis: 0 to 3\n",
      "Minor_axis axis: 0 to 5\n",
      "          0         1         2         3         4   5\n",
      "0  0.653345  0.793719  0.083053  0.488671  0.735208 NaN\n",
      "1  0.715481  0.717022  0.243024  0.547632  0.336674 NaN\n",
      "2  0.676400  0.798548  0.852283  0.050431  0.160585 NaN\n",
      "3  0.583315  0.673299  0.942257  0.699256  0.901075 NaN\n",
      "          0         1         2         3         4         5\n",
      "0  0.354809  0.789243  0.266904  0.995488  0.772951  0.928931\n",
      "1  0.303232  0.359876  0.918561  0.083724  0.082352  0.198406\n",
      "2  0.595931  0.845919  0.116376  0.489874  0.525820  0.472265\n",
      "3       NaN       NaN       NaN       NaN       NaN       NaN\n"
     ]
    }
   ],
   "source": [
    "data={'Item1':pd.DataFrame(np.random.rand(4,5)),\n",
    "      'Item2':pd.DataFrame(np.random.rand(3,6))}\n",
    "x=pd.Panel(data)  \n",
    "print(x)    #panel with item s=axis0 defined\n",
    "print(x['Item1'])\n",
    "print(x['Item2'])"
   ]
  },
  {
   "cell_type": "code",
   "execution_count": 16,
   "metadata": {},
   "outputs": [
    {
     "name": "stdout",
     "output_type": "stream",
     "text": [
      "      Item1     Item2\n",
      "0  0.090538  0.288022\n",
      "1  0.613223  0.898097\n",
      "2  0.060736  0.046366\n",
      "3  0.790523  0.366401\n",
      "4  0.706489  0.628719\n",
      "5       NaN  0.397340\n",
      "      Item1     Item2\n",
      "0  0.477100  0.260345\n",
      "1  0.613223  0.898097\n",
      "2  0.412732  0.360797\n",
      "3  0.370781       NaN\n"
     ]
    }
   ],
   "source": [
    "data={'Item1':pd.DataFrame(np.random.rand(4,5)),\n",
    "      'Item2':pd.DataFrame(np.random.rand(3,6))}\n",
    "x=pd.Panel(data)  \n",
    "print(x.major_xs(1))\n",
    "print(x.minor_xs(1))"
   ]
  },
  {
   "cell_type": "code",
   "execution_count": 21,
   "metadata": {},
   "outputs": [
    {
     "name": "stdout",
     "output_type": "stream",
     "text": [
      "0    0.357387\n",
      "1    0.294009\n",
      "2    0.423822\n",
      "3    0.327738\n",
      "4    0.717180\n",
      "5    0.369007\n",
      "6    0.993450\n",
      "7    0.045232\n",
      "8    0.605658\n",
      "9    0.335867\n",
      "dtype: float64\n",
      "[RangeIndex(start=0, stop=10, step=1)]\n",
      "False\n"
     ]
    }
   ],
   "source": [
    "x=pd.Series(np.random.rand(10))\n",
    "print(x)\n",
    "print(x.axes)\n",
    "print(x.empty)"
   ]
  },
  {
   "cell_type": "code",
   "execution_count": 25,
   "metadata": {},
   "outputs": [
    {
     "name": "stdout",
     "output_type": "stream",
     "text": [
      "0    1\n",
      "1    2\n",
      "2    3\n",
      "3    4\n",
      "4    5\n",
      "dtype: int32\n",
      "[RangeIndex(start=0, stop=5, step=1)]\n"
     ]
    }
   ],
   "source": [
    "x=pd.Series(np.array([1,2,3,4,5]))\n",
    "print(x)\n",
    "print(x.axes)"
   ]
  },
  {
   "cell_type": "code",
   "execution_count": 51,
   "metadata": {},
   "outputs": [
    {
     "name": "stdout",
     "output_type": "stream",
     "text": [
      "     a  b  c  d  e\n",
      "one  1  2  3  4  5\n",
      "two  2  3  4  5  6\n",
      "[Index(['one', 'two'], dtype='object'), Index(['a', 'b', 'c', 'd', 'e'], dtype='object')]\n",
      "   0  1  2  3  4\n",
      "0  1  2  3  4  5\n",
      "1  2  3  4  5  6\n",
      "[RangeIndex(start=0, stop=2, step=1), RangeIndex(start=0, stop=5, step=1)]\n",
      "   0  1\n",
      "0  1  2\n",
      "1  2  3\n",
      "2  3  4\n",
      "3  4  5\n",
      "4  5  6\n",
      "False\n",
      "0    int64\n",
      "1    int64\n",
      "2    int64\n",
      "3    int64\n",
      "4    int64\n",
      "dtype: object\n",
      "2\n",
      "(2, 5)\n",
      "   0  1  2  3  4\n",
      "0  1  2  3  4  5\n",
      "   0  1  2  3  4\n",
      "1  2  3  4  5  6\n"
     ]
    }
   ],
   "source": [
    "data=[[1,2,3,4,5],[2,3,4,5,6]]\n",
    "x=pd.DataFrame(data,index=['one','two'],columns=['a','b','c','d','e'])\n",
    "print(x)\n",
    "print(x.axes)\n",
    "x=pd.DataFrame(data)\n",
    "print(x)\n",
    "print(x.axes)\n",
    "print(x.T)\n",
    "print(x.empty)\n",
    "print(x.dtypes)\n",
    "print(x.ndim)\n",
    "print(x.shape)\n",
    "print(x.head(1))\n",
    "print(x.tail(1))"
   ]
  },
  {
   "cell_type": "code",
   "execution_count": 46,
   "metadata": {},
   "outputs": [
    {
     "name": "stdout",
     "output_type": "stream",
     "text": [
      "<class 'pandas.core.panel.Panel'>\n",
      "Dimensions: 2 (items) x 2 (major_axis) x 5 (minor_axis)\n",
      "Items axis: item1 to item2\n",
      "Major_axis axis: x to y\n",
      "Minor_axis axis: 101 to 105\n",
      "[Index(['x', 'y'], dtype='object'), Int64Index([101, 102, 103, 104, 105], dtype='int64')]\n",
      "     x  y\n",
      "101  1  5\n",
      "102  2  6\n",
      "103  3  7\n",
      "104  4  8\n",
      "105  5  9\n",
      "     x  y\n",
      "101  6  1\n",
      "102  7  2\n",
      "103  8  3\n",
      "104  9  4\n",
      "105  0  5\n",
      "101    int64\n",
      "102    int64\n",
      "103    int64\n",
      "104    int64\n",
      "105    int64\n",
      "dtype: object\n"
     ]
    }
   ],
   "source": [
    "data={'item1':pd.DataFrame([[1,2,3,4,5],[5,6,7,8,9]],index=['x','y'],columns=[101,102,103,104,105]),\n",
    "      'item2':pd.DataFrame([[6,7,8,9,0],[1,2,3,4,5]],index=['x','y'],columns=[101,102,103,104,105])}\n",
    "x=pd.Panel(data)\n",
    "print(x)\n",
    "print(x['item1'].axes)\n",
    "print(x['item1'].T)\n",
    "print(x['item2'].T)            #transpose in dataframe\n",
    "print(x['item1'].dtypes)\n"
   ]
  },
  {
   "cell_type": "code",
   "execution_count": 47,
   "metadata": {},
   "outputs": [
    {
     "name": "stdout",
     "output_type": "stream",
     "text": [
      "False\n",
      "3\n",
      "(2, 2, 5)\n"
     ]
    }
   ],
   "source": [
    "print(x['item1'].empty)\n",
    "print(x.ndim)\n",
    "print(x.shape)"
   ]
  }
 ],
 "metadata": {
  "kernelspec": {
   "display_name": "Python 3",
   "language": "python",
   "name": "python3"
  },
  "language_info": {
   "codemirror_mode": {
    "name": "ipython",
    "version": 3
   },
   "file_extension": ".py",
   "mimetype": "text/x-python",
   "name": "python",
   "nbconvert_exporter": "python",
   "pygments_lexer": "ipython3",
   "version": "3.6.4"
  }
 },
 "nbformat": 4,
 "nbformat_minor": 2
}
