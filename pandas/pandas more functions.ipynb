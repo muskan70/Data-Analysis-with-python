{
 "cells": [
  {
   "cell_type": "code",
   "execution_count": 10,
   "metadata": {},
   "outputs": [
    {
     "name": "stdout",
     "output_type": "stream",
     "text": [
      "0         NaN\n",
      "1    1.000000\n",
      "2    0.500000\n",
      "3    0.333333\n",
      "4    0.250000\n",
      "5    0.200000\n",
      "dtype: float64\n",
      "           0         1         2         3\n",
      "0        NaN       NaN       NaN       NaN\n",
      "1  53.137559  0.495502  2.425818 -0.272377\n",
      "2   0.967643  0.173751  0.067977  2.743036\n",
      "          a    b\n",
      "0       NaN  NaN\n",
      "1 -0.583333  0.6\n"
     ]
    }
   ],
   "source": [
    "import pandas as pd\n",
    "import numpy as np\n",
    "s=pd.Series([1,2,3,4,5,6])\n",
    "print(s.pct_change())\n",
    "\n",
    "d=pd.DataFrame(np.random.rand(3,4))               #percentage change\n",
    "print(d.pct_change())\n",
    "\n",
    "x=pd.Panel({'item1':pd.DataFrame([{'a':12,'b':10},{'a':5,'b':16}]),'item2':pd.DataFrame([{'a':9,'b':8},{'a':2,'b':1}])})\n",
    "\n",
    "print(x['item1'].pct_change())"
   ]
  },
  {
   "cell_type": "code",
   "execution_count": 13,
   "metadata": {},
   "outputs": [
    {
     "name": "stdout",
     "output_type": "stream",
     "text": [
      "2.5\n"
     ]
    }
   ],
   "source": [
    "#covariance------only valid for series\n",
    "s1=pd.Series([1,2,3,4,5])\n",
    "s2=pd.Series([3,4,5,6,7])\n",
    "print(s1.cov(s2))"
   ]
  },
  {
   "cell_type": "code",
   "execution_count": 17,
   "metadata": {},
   "outputs": [
    {
     "name": "stdout",
     "output_type": "stream",
     "text": [
      "   x  y  z  p  q\n",
      "a  1  2  3  4  5\n",
      "b  6  7  8  9  0\n",
      "12.5\n",
      "      x     y     z     p     q\n",
      "x  12.5  12.5  12.5  12.5 -12.5\n",
      "y  12.5  12.5  12.5  12.5 -12.5\n",
      "z  12.5  12.5  12.5  12.5 -12.5\n",
      "p  12.5  12.5  12.5  12.5 -12.5\n",
      "q -12.5 -12.5 -12.5 -12.5  12.5\n"
     ]
    }
   ],
   "source": [
    "frame=pd.DataFrame([[1,2,3,4,5],[6,7,8,9,0]],index=['a','b'],columns=['x','y','z','p','q'])\n",
    "print(frame)\n",
    "print(frame['x'].cov(frame['y']))\n",
    "print(frame.cov())"
   ]
  },
  {
   "cell_type": "code",
   "execution_count": 19,
   "metadata": {},
   "outputs": [
    {
     "name": "stdout",
     "output_type": "stream",
     "text": [
      "   x  y  z  p  q\n",
      "a  1  2  3  4  5\n",
      "b  6  7  8  9  0\n",
      "0.9999999999999999\n",
      "     x    y    z    p    q\n",
      "x  1.0  1.0  1.0  1.0 -1.0\n",
      "y  1.0  1.0  1.0  1.0 -1.0\n",
      "z  1.0  1.0  1.0  1.0 -1.0\n",
      "p  1.0  1.0  1.0  1.0 -1.0\n",
      "q -1.0 -1.0 -1.0 -1.0  1.0\n"
     ]
    }
   ],
   "source": [
    "#corelation-----shows linear relationship b/w any two array of values\n",
    "frame=pd.DataFrame([[1,2,3,4,5],[6,7,8,9,0]],index=['a','b'],columns=['x','y','z','p','q'])\n",
    "print(frame)\n",
    "print(frame['x'].corr(frame['y']))\n",
    "print(frame.corr())"
   ]
  },
  {
   "cell_type": "code",
   "execution_count": 26,
   "metadata": {},
   "outputs": [
    {
     "name": "stdout",
     "output_type": "stream",
     "text": [
      "1    3.0\n",
      "2    4.5\n",
      "3    1.0\n",
      "4    2.0\n",
      "5    4.5\n",
      "dtype: float64\n",
      "1    0.663372\n",
      "2    0.736142\n",
      "3   -0.732721\n",
      "4   -0.491563\n",
      "5    0.736142\n",
      "dtype: float64\n"
     ]
    }
   ],
   "source": [
    "#data-ranking--->ranks the element in the array----->gives in accending order \n",
    "s=pd.Series(np.random.np.random.randn(5),index=[1,2,3,4,5])\n",
    "s[2]=s[5]\n",
    "print(s.rank())\n",
    "print(s)"
   ]
  },
  {
   "cell_type": "code",
   "execution_count": null,
   "metadata": {},
   "outputs": [],
   "source": []
  }
 ],
 "metadata": {
  "kernelspec": {
   "display_name": "Python 3",
   "language": "python",
   "name": "python3"
  },
  "language_info": {
   "codemirror_mode": {
    "name": "ipython",
    "version": 3
   },
   "file_extension": ".py",
   "mimetype": "text/x-python",
   "name": "python",
   "nbconvert_exporter": "python",
   "pygments_lexer": "ipython3",
   "version": "3.6.4"
  }
 },
 "nbformat": 4,
 "nbformat_minor": 2
}
