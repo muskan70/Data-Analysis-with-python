{
 "cells": [
  {
   "cell_type": "code",
   "execution_count": 2,
   "metadata": {},
   "outputs": [
    {
     "name": "stdout",
     "output_type": "stream",
     "text": [
      "60\n",
      "20\n"
     ]
    }
   ],
   "source": [
    "#get_option----gives maximum value of rows and columns in pandas\n",
    "import pandas as pd\n",
    "print(pd.get_option(\"display.max_rows\"))\n",
    "print(pd.get_option(\"display.max_columns\"))"
   ]
  },
  {
   "cell_type": "code",
   "execution_count": 18,
   "metadata": {},
   "outputs": [
    {
     "name": "stdout",
     "output_type": "stream",
     "text": [
      "   x   y   z\n",
      "A  1   3   2\n",
      "B  2   6   4\n",
      "C  3   9   6\n",
      "D  4  12   8\n",
      "E  5  15  10\n",
      "F  6  18  12\n",
      "x    1\n",
      "y    3\n",
      "z    2\n",
      "Name: A, dtype: int64\n",
      "   x   y  z\n",
      "A  1   3  2\n",
      "B  2   6  4\n",
      "C  3   9  6\n",
      "D  4  12  8\n",
      "x    3\n",
      "y    9\n",
      "z    6\n",
      "Name: C, dtype: int64\n",
      "A    1\n",
      "B    2\n",
      "C    3\n",
      "D    4\n",
      "E    5\n",
      "F    6\n",
      "Name: x, dtype: int64\n",
      "A     3\n",
      "B     6\n",
      "C     9\n",
      "D    12\n",
      "Name: y, dtype: int64\n"
     ]
    }
   ],
   "source": [
    "#indexing and selecting data\n",
    "#1.---.loc   ----access by label\n",
    "#2.---.iloc -----access by integer\n",
    "#3.---.ix ------access by both\n",
    "\n",
    "x=pd.DataFrame({'x':[1,2,3,4,5,6],'y':[3,6,9,12,15,18],'z':[2,4,6,8,10,12]},index=['A','B','C','D','E','F'])\n",
    "print(x)\n",
    "print(x.loc['A'])\n",
    "print(x.loc['A':'D'])\n",
    "print(x.iloc[2])\n",
    "print(x['x'])\n",
    "\n",
    "print(x.loc['A':'D']['y'])"
   ]
  },
  {
   "cell_type": "code",
   "execution_count": 21,
   "metadata": {},
   "outputs": [
    {
     "name": "stdout",
     "output_type": "stream",
     "text": [
      "x    False\n",
      "y     True\n",
      "z    False\n",
      "Name: A, dtype: bool\n"
     ]
    }
   ],
   "source": [
    "print(x.loc['A']>2)"
   ]
  },
  {
   "cell_type": "code",
   "execution_count": 32,
   "metadata": {},
   "outputs": [
    {
     "name": "stdout",
     "output_type": "stream",
     "text": [
      "x     5\n",
      "y    15\n",
      "z    10\n",
      "Name: E, dtype: int64\n",
      "   x   y  z\n",
      "A  1   3  2\n",
      "B  2   6  4\n",
      "C  3   9  6\n",
      "D  4  12  8\n",
      "x     5\n",
      "y    15\n",
      "z    10\n",
      "Name: E, dtype: int64\n",
      "   y\n",
      "B  6\n",
      "C  9\n",
      "A    1\n",
      "B    2\n",
      "C    3\n",
      "D    4\n",
      "E    5\n",
      "F    6\n",
      "Name: x, dtype: int64\n"
     ]
    }
   ],
   "source": [
    "print(x.iloc[4])\n",
    "print(x.iloc[:4])\n",
    "print(x.iloc[-2])\n",
    "print(x.iloc[1:3,1:2])\n",
    "print(x.iloc[:,0])"
   ]
  },
  {
   "cell_type": "code",
   "execution_count": 39,
   "metadata": {},
   "outputs": [
    {
     "name": "stdout",
     "output_type": "stream",
     "text": [
      "   x   y  z\n",
      "A  1   3  2\n",
      "B  2   6  4\n",
      "C  3   9  6\n",
      "D  4  12  8\n",
      "x    3\n",
      "y    9\n",
      "z    6\n",
      "Name: C, dtype: int64\n"
     ]
    }
   ],
   "source": [
    "print(x.ix[:4])\n",
    "print(x.ix[2])"
   ]
  },
  {
   "cell_type": "code",
   "execution_count": 50,
   "metadata": {},
   "outputs": [
    {
     "name": "stdout",
     "output_type": "stream",
     "text": [
      "A    1\n",
      "B    2\n",
      "C    3\n",
      "D    4\n",
      "E    5\n",
      "F    6\n",
      "Name: x, dtype: int64\n",
      "   x   z\n",
      "A  1   2\n",
      "B  2   4\n",
      "C  3   6\n",
      "D  4   8\n",
      "E  5  10\n",
      "F  6  12\n",
      "B    2\n",
      "C    3\n",
      "D    4\n",
      "Name: x, dtype: int64\n"
     ]
    }
   ],
   "source": [
    "print(x['x'])\n",
    "print(x[['x','z']])\n",
    "print(x['x'][1:4])"
   ]
  },
  {
   "cell_type": "code",
   "execution_count": 63,
   "metadata": {},
   "outputs": [
    {
     "name": "stdout",
     "output_type": "stream",
     "text": [
      "       x      y      z\n",
      "A  False  False  False\n",
      "B  False  False  False\n",
      "C  False  False  False\n",
      "D  False  False  False\n",
      "E  False  False  False\n",
      "F  False  False  False\n",
      "   a  b   c\n",
      "0  1  2   2\n",
      "1  3  5   4\n",
      "2  5  7   6\n",
      "3  7  1   8\n",
      "4  2  4  10\n",
      "0    False\n",
      "1    False\n",
      "2    False\n",
      "3    False\n",
      "4    False\n",
      "Name: b, dtype: bool\n",
      "   0  1    2    3    4\n",
      "a  1  2  3.0  NaN  NaN\n",
      "b  4  5  6.0  NaN  NaN\n",
      "c  7  2  NaN  NaN  NaN\n",
      "d  1  2  3.0  4.0  5.0\n"
     ]
    }
   ],
   "source": [
    "#missing data\n",
    "print(x.isnull())\n",
    "y=pd.DataFrame({'a':[1,3,5,7,2],'b':[2,5,7,1,4],'c':[2,4,6,8,10]})\n",
    "print(y)\n",
    "print(y['b'].isnull())\n",
    "z=pd.DataFrame([[1,2,3],[4,5,6],[7,2],[1,2,3,4,5]],index=['a','b','c','d'])\n",
    "print(z)"
   ]
  },
  {
   "cell_type": "code",
   "execution_count": 66,
   "metadata": {},
   "outputs": [
    {
     "data": {
      "text/html": [
       "<div>\n",
       "<style scoped>\n",
       "    .dataframe tbody tr th:only-of-type {\n",
       "        vertical-align: middle;\n",
       "    }\n",
       "\n",
       "    .dataframe tbody tr th {\n",
       "        vertical-align: top;\n",
       "    }\n",
       "\n",
       "    .dataframe thead th {\n",
       "        text-align: right;\n",
       "    }\n",
       "</style>\n",
       "<table border=\"1\" class=\"dataframe\">\n",
       "  <thead>\n",
       "    <tr style=\"text-align: right;\">\n",
       "      <th></th>\n",
       "      <th>0</th>\n",
       "      <th>1</th>\n",
       "      <th>2</th>\n",
       "      <th>3</th>\n",
       "      <th>4</th>\n",
       "    </tr>\n",
       "  </thead>\n",
       "  <tbody>\n",
       "    <tr>\n",
       "      <th>a</th>\n",
       "      <td>1</td>\n",
       "      <td>2</td>\n",
       "      <td>3.0</td>\n",
       "      <td>0.0</td>\n",
       "      <td>0.0</td>\n",
       "    </tr>\n",
       "    <tr>\n",
       "      <th>b</th>\n",
       "      <td>4</td>\n",
       "      <td>5</td>\n",
       "      <td>6.0</td>\n",
       "      <td>0.0</td>\n",
       "      <td>0.0</td>\n",
       "    </tr>\n",
       "    <tr>\n",
       "      <th>c</th>\n",
       "      <td>7</td>\n",
       "      <td>2</td>\n",
       "      <td>0.0</td>\n",
       "      <td>0.0</td>\n",
       "      <td>0.0</td>\n",
       "    </tr>\n",
       "    <tr>\n",
       "      <th>d</th>\n",
       "      <td>1</td>\n",
       "      <td>2</td>\n",
       "      <td>3.0</td>\n",
       "      <td>4.0</td>\n",
       "      <td>5.0</td>\n",
       "    </tr>\n",
       "  </tbody>\n",
       "</table>\n",
       "</div>"
      ],
      "text/plain": [
       "   0  1    2    3    4\n",
       "a  1  2  3.0  0.0  0.0\n",
       "b  4  5  6.0  0.0  0.0\n",
       "c  7  2  0.0  0.0  0.0\n",
       "d  1  2  3.0  4.0  5.0"
      ]
     },
     "execution_count": 66,
     "metadata": {},
     "output_type": "execute_result"
    }
   ],
   "source": [
    "z.fillna(0)"
   ]
  },
  {
   "cell_type": "code",
   "execution_count": 74,
   "metadata": {},
   "outputs": [
    {
     "name": "stdout",
     "output_type": "stream",
     "text": [
      "   0  1    2    3    4\n",
      "a  1  2  3.0  NaN  NaN\n",
      "b  4  5  6.0  NaN  NaN\n",
      "c  7  2  6.0  NaN  NaN\n",
      "d  1  2  3.0  4.0  5.0\n",
      "   0  1    2    3    4\n",
      "a  1  2  3.0  NaN  NaN\n",
      "b  4  5  6.0  NaN  NaN\n",
      "c  7  2  NaN  NaN  NaN\n",
      "d  1  2  3.0  4.0  5.0\n",
      "   0  1    2    3    4\n",
      "a  1  2  3.0  4.0  5.0\n",
      "b  4  5  6.0  4.0  5.0\n",
      "c  7  2  3.0  4.0  5.0\n",
      "d  1  2  3.0  4.0  5.0\n"
     ]
    }
   ],
   "source": [
    "#pad----fill forward\n",
    "#backfill----fill backword\n",
    "print(z.fillna(method='pad'))\n",
    "print(z)\n",
    "print(z.fillna(method='backfill'))"
   ]
  },
  {
   "cell_type": "code",
   "execution_count": 77,
   "metadata": {},
   "outputs": [
    {
     "name": "stdout",
     "output_type": "stream",
     "text": [
      "   0  1    2    3    4\n",
      "d  1  2  3.0  4.0  5.0\n",
      "   0  1\n",
      "a  1  2\n",
      "b  4  5\n",
      "c  7  2\n",
      "d  1  2\n"
     ]
    }
   ],
   "source": [
    "#dropna----drop missing values(exclude the row having nan)\n",
    "print(z.dropna())\n",
    "print(z.dropna(axis=1))"
   ]
  },
  {
   "cell_type": "code",
   "execution_count": 83,
   "metadata": {},
   "outputs": [
    {
     "name": "stdout",
     "output_type": "stream",
     "text": [
      "   0  1    2    3    4\n",
      "a  1  2  3.0  NaN  NaN\n",
      "b  4  5  6.0  NaN  NaN\n",
      "c  7  2  NaN  NaN  NaN\n",
      "d  1  2  3.0  4.0  5.0\n",
      "   0  1    2    3    4\n",
      "a  4  2  3.0  NaN  NaN\n",
      "b  2  5  6.0  NaN  NaN\n",
      "c  7  2  NaN  NaN  NaN\n",
      "d  4  2  3.0  2.0  5.0\n"
     ]
    }
   ],
   "source": [
    "print(z)\n",
    "print(z.replace({1:4,4:2}))"
   ]
  },
  {
   "cell_type": "code",
   "execution_count": null,
   "metadata": {},
   "outputs": [],
   "source": []
  }
 ],
 "metadata": {
  "kernelspec": {
   "display_name": "Python [conda env:Anaconda3]",
   "language": "python",
   "name": "conda-env-Anaconda3-py"
  },
  "language_info": {
   "codemirror_mode": {
    "name": "ipython",
    "version": 3
   },
   "file_extension": ".py",
   "mimetype": "text/x-python",
   "name": "python",
   "nbconvert_exporter": "python",
   "pygments_lexer": "ipython3",
   "version": "3.6.4"
  }
 },
 "nbformat": 4,
 "nbformat_minor": 2
}
