{
 "cells": [
  {
   "cell_type": "code",
   "execution_count": 8,
   "metadata": {},
   "outputs": [
    {
     "name": "stdout",
     "output_type": "stream",
     "text": [
      "enter choice1-21\n",
      "[-1 -3 -5 -5  4  2  4  4  3  4]\n"
     ]
    }
   ],
   "source": [
    "import numpy as np\n",
    "a=np.arange(10)\n",
    "b=np.array([1,4,7,8,0,3,2,3,5,5])\n",
    "c=np.arange(10)\n",
    "d=(int)(input(\"enter choice1-2\"))\n",
    "if(d==1):\n",
    "    print(a-b)\n",
    "elif(d==2):\n",
    "    print(a-c)"
   ]
  },
  {
   "cell_type": "code",
   "execution_count": 3,
   "metadata": {},
   "outputs": [
    {
     "name": "stdout",
     "output_type": "stream",
     "text": [
      "enter the choice(c,d,e,f,g) :d\n",
      "[1 1 1 1 1]\n",
      "enter the choice(c,d,e,f,g) :f\n",
      "[1.         1.41421356 1.73205081 2.         2.23606798]\n",
      "enter the choice(c,d,e,f,g) :h\n",
      "calculation over\n"
     ]
    }
   ],
   "source": [
    "import numpy as np\n",
    "a=np.array([1,2,3,4,5])\n",
    "b=np.arange(5)\n",
    "while(1):\n",
    "    c=input(\"enter the choice(c,d,e,f,g) :\")\n",
    "    if(c=='c'):\n",
    "        print(a+b)\n",
    "    elif(c=='d'):\n",
    "        print(a-b)\n",
    "    elif(c=='e'):\n",
    "        print(a*b)\n",
    "    elif(c=='f'):\n",
    "        print(np.sqrt(a))\n",
    "    elif(c=='g'):\n",
    "        print(np.exp(a))\n",
    "    else:\n",
    "        print(\"calculation over\")\n",
    "        break"
   ]
  },
  {
   "cell_type": "code",
   "execution_count": null,
   "metadata": {},
   "outputs": [],
   "source": [
    "\n"
   ]
  }
 ],
 "metadata": {
  "kernelspec": {
   "display_name": "Python 3",
   "language": "python",
   "name": "python3"
  },
  "language_info": {
   "codemirror_mode": {
    "name": "ipython",
    "version": 3
   },
   "file_extension": ".py",
   "mimetype": "text/x-python",
   "name": "python",
   "nbconvert_exporter": "python",
   "pygments_lexer": "ipython3",
   "version": "3.6.4"
  }
 },
 "nbformat": 4,
 "nbformat_minor": 2
}
