{
 "cells": [
  {
   "cell_type": "code",
   "execution_count": 2,
   "metadata": {},
   "outputs": [
    {
     "name": "stdout",
     "output_type": "stream",
     "text": [
      "     name  age  rollno  marks result\n",
      "0   karan   21       1     69   pass\n",
      "1  rishab   22       2     42   fail\n",
      "2  mayank   19       3     35   fail\n",
      "3   nitin   18       4     65   pass\n",
      "4    ravi   20       5     78   pass\n",
      "5    shiv   23       6     95   pass\n",
      "6  sachin   34       7     23   fail\n",
      "7  naveen   23       8     90   pass\n",
      "8   mohit   21       9     72   pass\n",
      "9   misti   20      10     49   fail\n"
     ]
    },
    {
     "name": "stderr",
     "output_type": "stream",
     "text": [
      "C:\\Users\\Muskan Mangla\\Anaconda3\\lib\\site-packages\\pandas\\core\\indexing.py:194: SettingWithCopyWarning: \n",
      "A value is trying to be set on a copy of a slice from a DataFrame\n",
      "\n",
      "See the caveats in the documentation: http://pandas.pydata.org/pandas-docs/stable/indexing.html#indexing-view-versus-copy\n",
      "  self._setitem_with_indexer(indexer, value)\n"
     ]
    }
   ],
   "source": [
    "import pandas as pd\n",
    "import numpy as np\n",
    "data={'name':['karan','rishab','mayank','nitin','ravi','shiv','sachin','naveen','mohit','misti']}\n",
    "frame=pd.DataFrame(data)\n",
    "frame['age']=[21,22,19,18,20,23,34,23,21,20]\n",
    "frame['rollno']=[1,2,3,4,5,6,7,8,9,10]\n",
    "frame['marks']=[69,42,35,65,78,95,23,90,72,49]\n",
    "frame['result']=\"pass\"\n",
    "for i in range(0,10):\n",
    "    if(frame['marks'].iloc[i]<50):\n",
    "        frame['result'].iloc[i]=\"fail\"\n",
    "print(frame)\n",
    "       "
   ]
  }
 ],
 "metadata": {
  "kernelspec": {
   "display_name": "Python 3",
   "language": "python",
   "name": "python3"
  },
  "language_info": {
   "codemirror_mode": {
    "name": "ipython",
    "version": 3
   },
   "file_extension": ".py",
   "mimetype": "text/x-python",
   "name": "python",
   "nbconvert_exporter": "python",
   "pygments_lexer": "ipython3",
   "version": "3.6.4"
  }
 },
 "nbformat": 4,
 "nbformat_minor": 2
}
